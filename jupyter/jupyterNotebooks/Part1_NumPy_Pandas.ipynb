{
 "cells": [
  {
   "cell_type": "markdown",
   "metadata": {},
   "source": [
    "<center><font size=\"+2\">Introduction to Programming and</font></center>\n",
    "<center><font size=\"+2\">Data Processing in Python 2020/2021</font></center>\n",
    "<br/>\n",
    "<center><font size=\"+1\">Core course, PhD program in Computer Science</font></center>\n",
    "<center><font size=\"+1\">GSSI Gran Sasso Science Institute, L'Aquila, Italy</font></center><br/>\n",
    "\n",
    "<center><font size=\"+2\">Course responsibles</font></center>\n",
    "<center><font size=\"+1\"><a href=\"https://www.linkedin.com/in/daniele-licari\">Daniele Licari</a> &nbsp; d.licari@santannapisa.it</font></center>\n",
    "<center><font size=\"+1\">\n",
    "    &nbsp;&nbsp;\n",
    "    <a href=\"https://www.santannapisa.it/en/andrea-vandin\">Andrea Vandin</a> &nbsp; a.vandin@santannapisa.it</font></center>\n",
    "\n",
    "---\n",
    "---"
   ]
  },
  {
   "cell_type": "markdown",
   "metadata": {},
   "source": [
    "<center><font size=\"+2\">Part 1</font></center>\n",
    "<center><font size=\"+1\">Advanced Libraries for data manipulation/visualization</font></center>\n",
    "<center><font size=\"+1\">Overview of NumPy & Pandas</font></center>\n",
    "\n",
    "---\n",
    "---"
   ]
  },
  {
   "cell_type": "markdown",
   "metadata": {},
   "source": [
    "# Notes and references about Part 1"
   ]
  },
  {
   "cell_type": "markdown",
   "metadata": {},
   "source": [
    "## The role of Part 1"
   ]
  },
  {
   "cell_type": "markdown",
   "metadata": {},
   "source": [
    "* We assume that you\n",
    "  * are able to program _well_\n",
    "  * know how to use the built-in Python data structures and functionalities.\n",
    "* In this part of the course we will give an overview of advanced Python libraries for data processing.\n",
    "  * You can see this notebook as a first place to look at when you need to use such libraries.\n",
    "  * It also contains examples and references to further material\n",
    "* In the second part of the course you will be using these libraries on a concrete case study on data analysis/machine learning\n",
    "  * Breast cancer diagnosis"
   ]
  },
  {
   "cell_type": "markdown",
   "metadata": {},
   "source": [
    "## What is Part 1 about"
   ]
  },
  {
   "cell_type": "markdown",
   "metadata": {},
   "source": [
    "This notebook is based on Chapter 4 of the following book:\n",
    "* [Python for Data Analysis, 2nd edition, William Wesley McKinney (O’Reilly)](https://www.oreilly.com/library/view/python-for-data/9781491957653/)\n",
    "* [Freely available Jupyter notebooks covering the examples/material of each chapter](https://github.com/wesm/pydata-book)\n",
    "* Some pictures have been taken from these sources"
   ]
  },
  {
   "cell_type": "markdown",
   "metadata": {},
   "source": [
    "In particular, this notebook will introduce the Python libraries (_packages_):\n",
    "* [NumPy](https://numpy.org/): \n",
    "   * scientific computing\n",
    "* [Pandas](https://pandas.pydata.org/): \n",
    "   * working with structured data (CSV, Spreadsheets, Databases)\n",
    "   * creating plots"
   ]
  },
  {
   "cell_type": "markdown",
   "metadata": {},
   "source": [
    "> Note: in this notebook we will often refer interchangeably to _arrays_, _NumPy arrays_ or just _ndarrays_. \n",
    "<br/>\n",
    "> You can think of __arrays as lists with better performances__ for numerical computing"
   ]
  },
  {
   "cell_type": "markdown",
   "metadata": {},
   "source": [
    "# NumPy\n",
    "NumPy, short for Numerical Python, is the Python package for scientific computing\n",
    "<br/>\n",
    "It provides:\n",
    "* An efficient implementation for list-like multidimensional data structures named __NumPy arrays__ or __ndarray__\n",
    "  * including functions for performing\n",
    "    * element-wise computations on arrays \n",
    "    * mathematical operations between arrays\n",
    "* Tools for reading/writing datasets from/to disk and arrays\n",
    "* Linear algebra operations, Fourier transform, and random number generation\n",
    "* 1-line plotting functionalities\n",
    "* Tools for integrating C, C++, and Fortran code with Python\n",
    "  * Useful to use legacy code\n",
    "  * Useful to use very efficient and established libraries for scientifical computation\n",
    "\n",
    "\n",
    "For data coming from numerical experiments (or from noisy measurements) \n",
    "* NumPy arrays are a more efficient way of storing and manipulating data than the other built-in Python data structures."
   ]
  },
  {
   "cell_type": "markdown",
   "metadata": {},
   "source": [
    "## Install and import the NumPy module\n",
    "The first time you run this notebook you might have to install Pandas using the following script:"
   ]
  },
  {
   "cell_type": "code",
   "execution_count": null,
   "metadata": {},
   "outputs": [],
   "source": [
    "import sys\n",
    "!{sys.executable} -m pip install numpy\n",
    "!{sys.executable} -m pip install --upgrade pip"
   ]
  },
  {
   "cell_type": "markdown",
   "metadata": {},
   "source": [
    "The Python community has adopted a number of __naming conventions__ for commonly used modules:\n",
    "* Below you see the conventions for numpy, pandas and matplotlib"
   ]
  },
  {
   "cell_type": "code",
   "execution_count": null,
   "metadata": {},
   "outputs": [],
   "source": [
    "import numpy as np\n",
    "# import pandas as pd \n",
    "# import matplotlib.pyplot as plt"
   ]
  },
  {
   "cell_type": "markdown",
   "metadata": {},
   "source": [
    "* This means that when you see `np.arange`, we refer to `numpy.arange`, the `arange` function in NumPy."
   ]
  },
  {
   "cell_type": "markdown",
   "metadata": {},
   "source": [
    "## Main features: Arrays, Vectorized Computation, Broadcast"
   ]
  },
  {
   "cell_type": "markdown",
   "metadata": {},
   "source": [
    "Numpy provides:\n",
    "* __ndarray__, a multidimensional array providing vectorized arithmetic operations and broadcasting capabilities\n",
    "   * Vectorized arithmetic operations: \n",
    "     - Operations among arrays are done iterating over the elements of the arrays at C level rather than at Python level, obtaining better performances. \n",
    "     - The syntax is more concise\n",
    "   * [Broadcasting](https://numpy.org/doc/stable/user/basics.broadcasting.html): \n",
    "     - In certain cases, operations on arrays can be done even if they do not have same dimensions. Pyhton tries to guess what to do\n",
    "     - E.g., if you multiply an array by a constant, each entry of the arrays is multiplied by the constant\n",
    "       - the constant is `broadcasted` on each entry of the array\n",
    "     - No data is 'needlessly' copied, and the _iterations to broadcast_  are done at C level, obtaining better performances\n",
    "* Standard mathematical functions for applying operations on entire arrays without having to write loops\n",
    "  - Again, these guarantee C-level performances"
   ]
  },
  {
   "cell_type": "markdown",
   "metadata": {},
   "source": [
    "Let's create a ndarray and a built-in Python list, each with 5mln elements."
   ]
  },
  {
   "cell_type": "code",
   "execution_count": 6,
   "metadata": {},
   "outputs": [
    {
     "name": "stdout",
     "output_type": "stream",
     "text": [
      "np_arr has type <class 'numpy.ndarray'>\n",
      "py_list has type <class 'list'>\n"
     ]
    }
   ],
   "source": [
    "import numpy as np\n",
    "np_arr = np.arange(5000000) #5 mln\n",
    "py_list = list(range(5000000)) #5 mln\n",
    "\n",
    "print('np_arr has type',type(np_arr))\n",
    "print('py_list has type',type(py_list))"
   ]
  },
  {
   "cell_type": "markdown",
   "metadata": {},
   "source": [
    "**Performance comparison among  Numpy ndarrays and Python lists**\n",
    "* Let's compute the square value of each element in the array/list"
   ]
  },
  {
   "cell_type": "code",
   "execution_count": 2,
   "metadata": {},
   "outputs": [
    {
     "name": "stdout",
     "output_type": "stream",
     "text": [
      "Test NumPy Array\n",
      "CPU times: user 10.5 ms, sys: 13.8 ms, total: 24.3 ms\n",
      "Wall time: 25 ms\n",
      "\n",
      "Test Python list comprehension\n",
      "CPU times: user 1.72 s, sys: 88.6 ms, total: 1.81 s\n",
      "Wall time: 1.86 s\n",
      "\n",
      "Test Python list iteration\n",
      "CPU times: user 2.74 s, sys: 52.6 ms, total: 2.79 s\n",
      "Wall time: 3.26 s\n",
      "\n",
      "Tests completed\n"
     ]
    }
   ],
   "source": [
    "print(\"Test NumPy Array\")\n",
    "%time np_arr = np_arr ** 2\n",
    "\n",
    "print(\"\\nTest Python list comprehension\")\n",
    "%time py_list = [x ** 2 for x in py_list]\n",
    "\n",
    "print(\"\\nTest Python list iteration\")\n",
    "%time for i in range(len(py_list)): py_list[i]=py_list[i]**2\n",
    "\n",
    "print(\"\\nTests completed\")"
   ]
  },
  {
   "cell_type": "markdown",
   "metadata": {},
   "source": [
    "## The NumPy ndarray: A Multidimensional Array"
   ]
  },
  {
   "cell_type": "markdown",
   "metadata": {},
   "source": [
    "### What is an ndarray?"
   ]
  },
  {
   "cell_type": "markdown",
   "metadata": {},
   "source": [
    "NumPy arrays are named **nd**array because they are **n**-**d**imensional arrays\n",
    "* they have been designed for storing large data sets"
   ]
  },
  {
   "cell_type": "code",
   "execution_count": 3,
   "metadata": {},
   "outputs": [
    {
     "data": {
      "text/plain": [
       "array([[ 0.71697636, -1.33198358, -0.38554134],\n",
       "       [ 1.22579137, -1.0956413 , -0.69399477]])"
      ]
     },
     "execution_count": 3,
     "metadata": {},
     "output_type": "execute_result"
    }
   ],
   "source": [
    "import numpy as np\n",
    "# Generate a 2x3 matrix with random data\n",
    "data = np.random.randn(2, 3)\n",
    "data"
   ]
  },
  {
   "cell_type": "markdown",
   "metadata": {},
   "source": [
    "Arrays enable you to perform\n",
    "mathematical operations on each of their elements \n",
    "* using a syntax similar to the equivalent operations between (scalar) numbers\n",
    "\n",
    "Below we \n",
    "* multiply by 10 each value in `data`\n",
    "* double each value in `data`"
   ]
  },
  {
   "cell_type": "code",
   "execution_count": 4,
   "metadata": {},
   "outputs": [
    {
     "name": "stdout",
     "output_type": "stream",
     "text": [
      "data * 10 = \n",
      " [[  7.16976357 -13.31983578  -3.85541343]\n",
      " [ 12.25791375 -10.956413    -6.93994771]]\n",
      "data + data =\n",
      " [[ 1.43395271 -2.66396716 -0.77108269]\n",
      " [ 2.45158275 -2.1912826  -1.38798954]]\n"
     ]
    }
   ],
   "source": [
    "print('data * 10 = \\n', data * 10)\n",
    "print('data + data =\\n',  data + data)"
   ]
  },
  {
   "cell_type": "markdown",
   "metadata": {},
   "source": [
    "A difference between Python lists and arrays\n",
    "* lists can contain elements of **different type**\n",
    "* arrays have to contain only elements of **same type**\n",
    "\n",
    "Every array has \n",
    "* a`shape`, a tuple indicating the size of each dimension, \n",
    "  * `data.shape` is `(2,3)` because it has dimension 2x3\n",
    "* a `dtype`, an object describing the type of the data in the array\n",
    "  * `data.dtype` is `float64` because it contains floating point numbers (reals)\n",
    "  *  Note that `float64` is a [data type defined in NumPy](https://numpy.org/doc/stable/user/basics.types.html)"
   ]
  },
  {
   "cell_type": "code",
   "execution_count": 7,
   "metadata": {},
   "outputs": [
    {
     "name": "stdout",
     "output_type": "stream",
     "text": [
      "(2, 3)\n",
      "float64\n"
     ]
    }
   ],
   "source": [
    "print(data.shape)\n",
    "print(data.dtype)"
   ]
  },
  {
   "cell_type": "markdown",
   "metadata": {
    "editable": true
   },
   "source": [
    "### Creating ndarrays\n",
    "The easiest way to create an array is to use the `array` function. \n",
    "* This will produce a new array containing the passed data"
   ]
  },
  {
   "cell_type": "code",
   "execution_count": 8,
   "metadata": {
    "collapsed": false,
    "editable": true,
    "jupyter": {
     "outputs_hidden": false
    }
   },
   "outputs": [
    {
     "name": "stdout",
     "output_type": "stream",
     "text": [
      "[6.  7.5 8.  0.  1. ]\n",
      "(5,)\n",
      "float64\n"
     ]
    }
   ],
   "source": [
    "data1 = [6, 7.5, 8, 0, 1]\n",
    "arr1 = np.array(data1)\n",
    "print(arr1)\n",
    "print(arr1.shape)\n",
    "print(arr1.dtype)"
   ]
  },
  {
   "cell_type": "markdown",
   "metadata": {},
   "source": [
    "List of lists \n",
    "* e.g. representing a matrix\n",
    "* can be converted into a multidimensional array if internal lists have same length:"
   ]
  },
  {
   "cell_type": "code",
   "execution_count": 10,
   "metadata": {
    "collapsed": false,
    "editable": true,
    "jupyter": {
     "outputs_hidden": false
    }
   },
   "outputs": [
    {
     "name": "stdout",
     "output_type": "stream",
     "text": [
      "data2\n",
      " [[1, 2, 3, 4], [5, 6, 7, 8]]\n",
      "arr2\n",
      " [[1 2 3 4]\n",
      " [5 6 7 8]]\n",
      "(2, 4)\n",
      "int64\n"
     ]
    }
   ],
   "source": [
    "data2 = [[1, 2, 3, 4], [5, 6, 7, 8]]\n",
    "print('data2\\n',data2)\n",
    "arr2 = np.array(data2)\n",
    "print('arr2\\n',arr2)\n",
    "print(arr2.shape)\n",
    "print(arr2.dtype)"
   ]
  },
  {
   "cell_type": "markdown",
   "metadata": {},
   "source": [
    "Further functions for creating new arrays:\n",
    "* `zeros` and `ones` create arrays of 0’s or 1’s, respectively, with a given length or shape.\n",
    "* To create a higher dimensional array with these methods, pass a tuple for the shape:"
   ]
  },
  {
   "cell_type": "code",
   "execution_count": 11,
   "metadata": {
    "collapsed": false,
    "editable": true,
    "jupyter": {
     "outputs_hidden": false
    }
   },
   "outputs": [
    {
     "name": "stdout",
     "output_type": "stream",
     "text": [
      "np.zeros(10) = [0. 0. 0. 0. 0. 0. 0. 0. 0. 0.]\n",
      "np.ones((3, 6)) =\n",
      " [[1. 1. 1. 1. 1. 1.]\n",
      " [1. 1. 1. 1. 1. 1.]\n",
      " [1. 1. 1. 1. 1. 1.]]\n"
     ]
    }
   ],
   "source": [
    "print('np.zeros(10) =', np.zeros(10))\n",
    "print('np.ones((3, 6)) =\\n', np.ones((3, 6)))"
   ]
  },
  {
   "cell_type": "markdown",
   "metadata": {},
   "source": [
    "`arange` is an array-valued version of the built-in Python `range` function:\n",
    "* It allows to represent an open interval [start,stop,step)\n",
    "    - where only stop is mandatory.\n",
    "* Beware: \n",
    "  - `range` is an iterator that creates elements on demand\n",
    "  - `arange` creates an array"
   ]
  },
  {
   "cell_type": "code",
   "execution_count": 14,
   "metadata": {
    "collapsed": false,
    "editable": true,
    "jupyter": {
     "outputs_hidden": false
    }
   },
   "outputs": [
    {
     "name": "stdout",
     "output_type": "stream",
     "text": [
      "[ 0  1  2  3  4  5  6  7  8  9 10 11 12 13 14]\n",
      "<class 'numpy.ndarray'>\n",
      "range(0, 15)\n",
      "<class 'range'>\n"
     ]
    }
   ],
   "source": [
    "print(np.arange(15))\n",
    "print(type(np.arange(15)))\n",
    "\n",
    "print(range(15))\n",
    "print(type(range(15)))"
   ]
  },
  {
   "cell_type": "markdown",
   "metadata": {
    "editable": true
   },
   "source": [
    "### Data Types for ndarrays\n",
    "The names of the numerical dtypes follow this convention: \n",
    "* A type name, like `float` or `int`, followed by the number of bits used to represent an element of this type.\n",
    "* The higher is this number of bits, \n",
    "  * the higher precision you can use to store your data (GOOD)\n",
    "  * the more memory is required to store your data (BAD)\n",
    "\n",
    "For example, \n",
    "* a double-precision floating point value takes 64 bits (`float64`)\n",
    "* an integer might take 32 (`int32`) or 64 bits (`int64`)\n",
    "  * in the latter case being able to represent a larger interval of integers, but using up more space"
   ]
  },
  {
   "cell_type": "code",
   "execution_count": null,
   "metadata": {
    "collapsed": false,
    "editable": true,
    "jupyter": {
     "outputs_hidden": false
    }
   },
   "outputs": [],
   "source": [
    "arr1 = np.array([1, 2, 3], dtype=np.float64)\n",
    "arr2 = np.array([1, 2, 3], dtype=np.int32)\n",
    "print(arr1.dtype)\n",
    "print(arr2.dtype)"
   ]
  },
  {
   "cell_type": "markdown",
   "metadata": {},
   "source": [
    "You can explicitly convert or cast an array from one dtype to another using ndarray’s `astype` method\n",
    "* This will create a copy of the original array, where elements have the new type"
   ]
  },
  {
   "cell_type": "code",
   "execution_count": null,
   "metadata": {
    "collapsed": false,
    "editable": true,
    "jupyter": {
     "outputs_hidden": false
    }
   },
   "outputs": [],
   "source": [
    "arr = np.array([1, 2, 3, 4, 5])\n",
    "print('Before',arr.dtype)\n",
    "float_arr = arr.astype(np.float64)\n",
    "print('After casting',float_arr.dtype)"
   ]
  },
  {
   "cell_type": "markdown",
   "metadata": {},
   "source": [
    "If I cast some floating point numbers to be of integer dtype, the decimal part will be truncated:"
   ]
  },
  {
   "cell_type": "code",
   "execution_count": null,
   "metadata": {
    "collapsed": false,
    "editable": true,
    "jupyter": {
     "outputs_hidden": false
    }
   },
   "outputs": [],
   "source": [
    "arr = np.array([3.7, -1.2, -2.6, 0.5, 12.9, 10.1])\n",
    "arr.astype(np.int32)"
   ]
  },
  {
   "cell_type": "markdown",
   "metadata": {
    "editable": true
   },
   "source": [
    "### Vectorized Arithmetics with NumPy Arrays\n",
    "Once you have values in an array\n",
    "* you can easily apply operations on each array element \n",
    "  * Arithmetic operations between equal-size arrays are applied element-wise\n",
    "  * Arithmetic operations between an array and a scalar (a number) are as you would expect\n",
    "    * the operation is applied between each array element and the scalar\n",
    "    * the scalar is said to be _broadcasted_ to all the array elements\n",
    "* similarly to list comprehensions, this does not require loops,\n",
    "  * Note: vectorized arithmetics is more efficient than the corresponding list comprehension operation\n"
   ]
  },
  {
   "cell_type": "code",
   "execution_count": null,
   "metadata": {
    "collapsed": false,
    "editable": true,
    "jupyter": {
     "outputs_hidden": false
    }
   },
   "outputs": [],
   "source": [
    "a = np.array([[1., 2., 3.], [4., 5., 6.]])\n",
    "print('a = \\n',a, '\\n')\n",
    "print('a * a = \\n', a * a, '\\n')\n",
    "print('a - a = \\n', a - a, '\\n')\n",
    "print('1 / a = \\n', 1 / a, '\\n')\n",
    "print('a*0.5  \\n=', a*0.5, '\\n')\n",
    "print('a**0.5  \\n=', a**0.5, '\\n')"
   ]
  },
  {
   "cell_type": "markdown",
   "metadata": {},
   "source": [
    "Note that we are not computing the product of 2 matrices. We are just multpliying their elements element-wise"
   ]
  },
  {
   "cell_type": "markdown",
   "metadata": {
    "editable": true
   },
   "source": [
    "### Basic Indexing and Slicing"
   ]
  },
  {
   "cell_type": "markdown",
   "metadata": {},
   "source": [
    "One-dimensional arrays are simple\n",
    "* As mentioned, they are essentially Python lists with better performances and some extra functions"
   ]
  },
  {
   "cell_type": "code",
   "execution_count": null,
   "metadata": {
    "collapsed": false,
    "editable": true,
    "jupyter": {
     "outputs_hidden": false
    }
   },
   "outputs": [],
   "source": [
    "arr = np.arange(10)\n",
    "print('arr',arr)\n",
    "print('arr[5]',arr[5])\n",
    "print('arr[5:8]',arr[5:8])\n",
    "arr[5:8] = 12\n",
    "print('After arr[5:8] = 12',arr)"
   ]
  },
  {
   "cell_type": "markdown",
   "metadata": {},
   "source": [
    "Note: \n",
    "* if you assign a scalar value to a __slice__ (a selection of some elements in an array)\n",
    "  * as in `arr[5:8] = 12`\n",
    "* then the value is propagated (or again _broadcasted_) to each selected element \n",
    "\n",
    "An important first distinction from lists is **that array slices are views on the original array**.\n",
    "* The __data in a slice is not copied__\n",
    "  * this is more efficient\n",
    "  * and any modifications to the view will be reflected in the source array"
   ]
  },
  {
   "cell_type": "code",
   "execution_count": null,
   "metadata": {
    "collapsed": false,
    "editable": true,
    "jupyter": {
     "outputs_hidden": false
    }
   },
   "outputs": [],
   "source": [
    "print('source array', arr)\n",
    "arr_slice = arr[5:8]\n",
    "print('slice array', arr_slice)"
   ]
  },
  {
   "cell_type": "code",
   "execution_count": null,
   "metadata": {
    "collapsed": false,
    "editable": true,
    "jupyter": {
     "outputs_hidden": false
    }
   },
   "outputs": [],
   "source": [
    "arr_slice[1] = 12345\n",
    "print('source array (after arr_slice[1] = 12345) : ', arr)"
   ]
  },
  {
   "cell_type": "markdown",
   "metadata": {},
   "source": [
    "If you want a copy of a slice of an ndarray instead of a view, you will need to explicitly copy the array; \n",
    "* `arr2 = arr[5:8].copy()`"
   ]
  },
  {
   "cell_type": "markdown",
   "metadata": {},
   "source": [
    "With higher dimensional arrays, you have many more options. \n",
    "* A two-dimensional array is actually an array of arrays\n",
    "  * Each entry of the _outer_ array contains an _inner_ array"
   ]
  },
  {
   "cell_type": "code",
   "execution_count": null,
   "metadata": {
    "collapsed": false,
    "editable": true,
    "jupyter": {
     "outputs_hidden": false
    }
   },
   "outputs": [],
   "source": [
    "arr2d = np.array([[1, 2, 3], [4, 5, 6], [7, 8, 9]])\n",
    "arr2d[2]"
   ]
  },
  {
   "cell_type": "markdown",
   "metadata": {},
   "source": [
    "As for multidimensional lists, you can access single elements of inner arrays using more `[]`\n",
    "* `arr2d[0][2]` is `3`, the third element (index `2`) of the first inner array (index `0`)\n",
    "* Alternatively, you can do `arr2d[0,2]`"
   ]
  },
  {
   "cell_type": "code",
   "execution_count": null,
   "metadata": {
    "collapsed": false,
    "editable": true,
    "jupyter": {
     "outputs_hidden": false
    }
   },
   "outputs": [],
   "source": [
    "print(arr2d[0][2])\n",
    "print(arr2d[0, 2])"
   ]
  },
  {
   "cell_type": "markdown",
   "metadata": {},
   "source": [
    "**See figure below for an illustration of indexing on a 2D array** <br />\n",
    "<img src='data:image/png;base64,iVBORw0KGgoAAAANSUhEUgAAAO4AAADUCAMAAACs0e/bAAAAtFBMVEX////M4/EAAAD8/PzO5vT19fXm5uabm5uwxND6+vrQ5/bR0dGwsLDj4+NjY2O0tLS/1eLD2eecrbiTo66sv8xYYmiluMPv7+/W1tZ3hIyOjo5EREQ7OzuEk5x+jZXIyMioqKhpdXx4eHg0NDS4zdokKCva8v8cHyE9REhga3GVlZURERFxfoZcXFwxNzqGhoZxcXG9vb1SUlItLS1aZGqWp7F9fX2Mm6UODxFNVVsXGhwfIiRnTxldAAAJlUlEQVR4nO2d6ULqOhSFy6JMgTIo0qIyiICiKFRUPPL+73WT0AL3dEqwIEf3+iNSFjtf06YDe6eGQSIdTU41t/NfKfttDTmO5ihsXltPuPrGphxD1uWmd3vAT8TNlvt927DcsuG4eatnGdlKweHv23P3J+JWeC/CtgBjAXvGN+YVMJBLyj8R13aMAR6MF/QxNy7R72Fm5+WSH4lrlN9vOWiZ97ElcMtYON6Cn4jbx+KJ4xrAtcFxC3x0RkUu+ZG4QLbGcR3eu47ENVx8yCU/FNe+5LhPKMh9t2CX83zYEvqRuAPgEXObb8qQI3ONd3NfLinj9nubdhBV+jm3bNUco+daTs0quTVrvcCu9b63ZSQSiUQikUgkEon0NeWSP5KGskeKE69sFQtL11S7XTmalifgKq8bJ30NcI1HTc+tvI2jJzwtTuBeQA7gK76sZ6rWrrVxc0YJsDVNqauM6vpum570cblG348rbjEWcKlr2wfXwkrbk7Yqx8OtevfzvlOuxH3Qte2BWxM35b9bFl6MGWq6Nn1cC5+ncOB9hLPQH0K0cbMjvLuV7z/wil8zZ9quhS6u+OkbcLUDpa7eu/amzFdSQXODyPeFtE/fSCTSr1P2lHUQ3tLpKmXgXq1Wq5yq8nYuXV4bp6x+Pp8qb9bGW0NXQ5xpe+pY7hHnwbFS5c3mccYyejLraGl7GjjfI87MLVt2erjZPXHPTE1PZj/cQaXn2Ln0cEunjTvvu04+TVzrpHGrhVqZcAmXcAmXcFWaQbgJIlyFOIRLuIRLuISr2ox/Cdd1N/4IXMZ2XgbIwnF3PCYLfmUo7vZzLDxOCrhXwCIW12y02w0vODu/CdyoCcP9n6fVfgugheDues5upsPAd6aBW8F8vskOCMcdASOv5W0ATTPQjCAu96zWX8TugQsl3K0nI247Ng6B+wRL/DIfjWue4Xzp33zDfR2Tvz8QxBWejudh910lXM8jv8kcsi6WwThfx/1Ezi9dC8flPVpsoSPeNYtos49RMq7wNNH1uneohMumGLZ8j8nODoKbBXJ2PO4EwyZu2LoDOuM7KOBeoN7E1Gu6Iu4FGsV1HPHfK/7eeY+E+ypwp8fF5dtRwJPKxrwSG/NnHG5bbGQdfmgQjeiOP54VcKdiFXWZPLKo4k5R9+JwfXw0DjIyP8FxRI1xJC7v0mUHzcyrWPG4H262tzhcz3MhPquKy4eqLopMeNgftOoHGZlreHmBX38ZfiBaAfd8vOFDhzwQhexTwdMMflC5H0tP6IYZepohPUXu4WuYK+QIkMJpxhx4919HnWZ0M2wJ2QXn06LiacbGk6m3g2jhpxnc04FYQe1utx04uqVzEpnfJm1Fn0Sy5/XAo3MSyZ7bzH+tgLvj4aedwUDHvUSIPKOPuUSIvgqIvkSIi0NXRIRLuIRLuKrNINwEEa5CHMIlXMIlXMJVbQbhJohwFeIQ7tdxTT0xkc+s68lwXF1P4xC4nWJTU2d7eFro7uE5AO4p6yC9q6sWltqeJu9d/Tj/6r5rNvC2RxwamQmXcAmXcFWbQbgJIlyFOIRLuIRLuISr2gzCTRDhKsQhXKHcbX/nv178nFGl/Ga2swhcc5vSZaqmkZls52VwcSju9oNh5QvRuLsP1cgDcXPElQo7s4yFJwmy1rmfB8lanaFSkiD31L3XbHjeCvCGJQlu45jFzlIn49XddugLLh9RisR9x+N2PsTQjNfhM3wetoRSCqj0ePn8bAL8UciJ3I3T4GE+4jNe3dm8ZuQK/Vy+4Nr9imH0q2KeQ5t39BzRjxTp9QoJuMXnC78ZJp6LKgm+0uPjjm7UahGKz6+b1dpqTIMf2MXN4g683VdwL+GKiTSrkEnoPTwlTPCYgCsTuM+8ighMGRTSt6XHr8BRzGfOiGxX/4v4hp1Qi2AbFu44XfX6znB4l2IhZ1R2UeVAcXMAauCqJufvidvdfhG7QTE2wdd5kt05Es8AkrgYZFPGZUfD5d95HzIkbnEdfBYE7kw8t0zgOsBIbswCN27qXUVcUYvQRHf8qFBY4+Pq1CL4uNLDRqjHjswzPhwJXHxiIHHFmNwTQ9W1MYgZqhRxWaYt8qrxp6FSNrXGNdceLVxmTrmHj+bBSZL+wn1wOW4flQ/kBO5D70VOwXmNwgeiYVVxh6Kiie9RCNunInp3KKutlGsRJK7wmC3x+1dsLYIFfHIsIDvAjA9aWXiPWBQPboudRPQh4TQjw94umvyIK4+D7QulkkfhKfqe+kVHCdc88zxm83UymSSMzG7JzmfzeX5SKP/YZa/GIOfGzxCbSzyJZMxk9+vDLQue3UXVImw8yrUIpu+RtQixQ1UqirlEGIa+G40b74m+RIiNczzc6GueaNyY66RI3Ng4dAFIuIRLuISr2gzCTRDhKsQhXMIlXMIlXNVmEG6CCFchzj+bz7xPLcJBcH9Ztvopi3r3q7i/bN/9dSOzfjMIN0GEqxCHcAmXcAmXcFWbQbgJIlyFOIRLuIRLuL8DN2dtH7wejmv+7xkHarUICZ7wJMGtR68WQUPvwDa5Oxy31dkkBrLiMiwTNYjb6m49dbVahJ04bNg5D2RYpYNbHWDztPbQycbPsUnHVK1FkJ/zMwRv1GoRdj2iFuHzb0ta++5gk+4c2rv1ZmPhPZPBxHNTpRZBeFaeh32o1SIIzwge+lnmJr4W4QuaoRKHmzHHk3UytUYtgjm+8ROwlfOZzfGr/6gLlliLsL8+YcXi8g66k29q1CJkGB69zynjZtjj52aHT6pF2Ft9VP2XEfnMHW9N69QidDa9o1NpsvEk1SLsLQvY1FiFV4kNZWi/FuFTpRaBbTzquOaOhz0HRsR0cLOrzbgc1bt3K3NsZrodU9QiZNRqEVYrJj1Mo3fvRuaYme2OLAJojg/Su1VcFS795P2IZ5pwteqyFmGCR5UH9Kw9TelRrUXw4oiaB4VahD1Vkr+sxT31gnUmk8nr8G09aE7/BDf2ENyu9JxLj6lWi7DjUalF2FNlodiRWdYFsD/rla34XIS1537tUXy41o7n+2sRiqHvRuEmeSIvEcxmXByqRTgQbrT+rQtAwtVuBuEmiHAV4hAu4RIu4RKuajMIN0GEqxCHcAmXcONw9fOM95lbXTuf+TC453VdFffwDLFs6Mf5bbUIfddJFdeuFC4H8+ppav5QSRXXKOXyTq/WL5ym+hW3bNml9HCzOdsq91y3dpJye2XeuWniljiv45RPU45j5e0Ut+U1r50/Wdm5VGk5Lwc+XZVS3JJ93pNWyrSkE9R/uobZZhQF/vUAAAAASUVORK5CYII='>"
   ]
  },
  {
   "cell_type": "markdown",
   "metadata": {},
   "source": [
    "This is an example for 2-dimensional arrays\n",
    "* It works the same also for more dimensions"
   ]
  },
  {
   "cell_type": "markdown",
   "metadata": {
    "editable": true
   },
   "source": [
    "#### Indexing and slices higher-dimensional arrays"
   ]
  },
  {
   "cell_type": "markdown",
   "metadata": {},
   "source": [
    "Higher dimensional arrays can be indexed and sliced in several ways"
   ]
  },
  {
   "attachments": {
    "image.png": {
     "image/png": "[encoded data removed]"
    }
   },
   "cell_type": "markdown",
   "metadata": {},
   "source": [
    "![image.png](attachment:image.png)"
   ]
  },
  {
   "cell_type": "code",
   "execution_count": null,
   "metadata": {
    "collapsed": false,
    "editable": true,
    "jupyter": {
     "outputs_hidden": false
    }
   },
   "outputs": [],
   "source": [
    "print(arr2d)\n",
    "print()\n",
    "print(arr2d[:2])"
   ]
  },
  {
   "cell_type": "markdown",
   "metadata": {},
   "source": [
    "We have sliced it along axis 0, the first axis (the rows). \n",
    "* A slice, therefore, selects a range of elements along an axis. \n",
    "* You can pass multiple slices just like you can pass multiple indexes"
   ]
  },
  {
   "cell_type": "code",
   "execution_count": null,
   "metadata": {
    "collapsed": false,
    "editable": true,
    "jupyter": {
     "outputs_hidden": false
    }
   },
   "outputs": [],
   "source": [
    "arr2d[:2, 1:]"
   ]
  },
  {
   "cell_type": "code",
   "execution_count": null,
   "metadata": {
    "collapsed": false,
    "editable": true,
    "jupyter": {
     "outputs_hidden": false
    }
   },
   "outputs": [],
   "source": [
    "arr2d[:2, 1:] = 0 #  assigning to a slice expression assigns to the whole selection\n",
    "arr2d"
   ]
  },
  {
   "cell_type": "markdown",
   "metadata": {},
   "source": [
    "We can also use a Boolean expression to select elements in an array\n",
    "* the ones satisfying the Boolean expression"
   ]
  },
  {
   "cell_type": "code",
   "execution_count": null,
   "metadata": {},
   "outputs": [],
   "source": [
    "data = np.random.randn(7, 4)\n",
    "print('Data\\n',data)\n",
    "data2=data[ data > 0]\n",
    "print('Data2\\n',data2)"
   ]
  },
  {
   "cell_type": "markdown",
   "metadata": {},
   "source": [
    "## Mathematical and Statistical Methods\n",
    "Arrays have a number of methods for \n",
    "* computing mathematical functions/statistics \n",
    "  * on the entire array \n",
    "  * on part of the array"
   ]
  },
  {
   "cell_type": "markdown",
   "metadata": {},
   "source": [
    "### Reshaping an array"
   ]
  },
  {
   "cell_type": "markdown",
   "metadata": {},
   "source": [
    "Arrays have a convenient method `reshape` to \n",
    "* change their dimensions without modifying the data\n",
    "* Remember: we compute a view. \n",
    "  * no data is actually copied\n",
    "  * any change to the view is observed also in the orginal data\n",
    "\n",
    "For example, we can transform\n",
    "* a 1-dimensional array with 15 entries\n",
    "* into a 2-dimensional 3x5 array (a matrix)"
   ]
  },
  {
   "cell_type": "code",
   "execution_count": null,
   "metadata": {},
   "outputs": [],
   "source": [
    "arr = np.arange(15)\n",
    "print(\"1-dimensional array arr\\n\",arr)\n",
    "m=arr.reshape((3, 5))\n",
    "print(\"2-dimensional matrix m\\n\",m)\n",
    "\n",
    "print()\n",
    "#m is a view!\n",
    "m[0,0]=100\n",
    "print(\"1-dimensional array arr after modifiyng the view m\\n\",arr)\n",
    "print(\"2-dimensional matrix m after modifiyng the view m\\n\",m)"
   ]
  },
  {
   "cell_type": "markdown",
   "metadata": {},
   "source": [
    "### Transposing Arrays\n",
    "Arrays have the transpose method and also the special T attribute\n",
    "* This is just a special reshape\n",
    "* we compute a view - no actual copy"
   ]
  },
  {
   "cell_type": "code",
   "execution_count": null,
   "metadata": {},
   "outputs": [],
   "source": [
    "arr = np.arange(15)\n",
    "m = arr.reshape(3,5)\n",
    "print(\"Matrix m\\n\",m)\n",
    "print()\n",
    "print(\"Transposed matrix using T\\n\",m.T)\n",
    "print()\n",
    "print(\"Transposed matrix transpose()\\n\",m.transpose())"
   ]
  },
  {
   "cell_type": "markdown",
   "metadata": {},
   "source": [
    "### Matrix product\n",
    "If you want to [multply two matrices](https://en.wikipedia.org/wiki/Matrix_multiplication) you can use the `dot` function\n",
    "* not just multiplying element-wise their elements"
   ]
  },
  {
   "cell_type": "code",
   "execution_count": null,
   "metadata": {},
   "outputs": [],
   "source": [
    "m1 = np.arange(4).reshape(2,2)\n",
    "m2 = (np.arange(4)+4).reshape(2,2)\n",
    "#np.dot(m.T,m)\n",
    "print(m1)\n",
    "print(m2)\n",
    "np.dot(m1,m2)"
   ]
  },
  {
   "cell_type": "markdown",
   "metadata": {},
   "source": [
    "You can also multiplty a matrix by its transpose as:"
   ]
  },
  {
   "cell_type": "code",
   "execution_count": null,
   "metadata": {},
   "outputs": [],
   "source": [
    "np.dot(m.T,m)"
   ]
  },
  {
   "cell_type": "markdown",
   "metadata": {},
   "source": [
    "### Square root\n",
    "_np.sqrt()_ computes the square root of each element. Equivalent to m ** 0.5"
   ]
  },
  {
   "cell_type": "code",
   "execution_count": null,
   "metadata": {},
   "outputs": [],
   "source": [
    " np.sqrt(m1)"
   ]
  },
  {
   "cell_type": "markdown",
   "metadata": {},
   "source": [
    "### Aggregations\n",
    "Aggregations (often called reductions) \n",
    "* like sum, mean, and standard deviation std of all elements in the matrix/array \n",
    "8 can be computed by using the corresponding array method"
   ]
  },
  {
   "cell_type": "code",
   "execution_count": null,
   "metadata": {},
   "outputs": [],
   "source": [
    "print('matrix\\n',m)\n",
    "print('mean',m.mean())\n",
    "print('sum',m.sum())\n",
    "print('standard deviation',m.std())\n",
    "\n",
    "print()\n",
    "print('array\\n',arr)\n",
    "print('mean',arr.mean())\n",
    "print('sum',arr.sum())\n",
    "print('standard deviation',arr.std())"
   ]
  },
  {
   "cell_type": "markdown",
   "metadata": {},
   "source": [
    "Functions like `sum`  and `mean`\n",
    "* can be computed for each dimension rather than cumulatively \n",
    "* we do this specifying the `axis` (the dimension) over which we want to iterate\n",
    "\n",
    "For example, using \n",
    "* `axis=0` we compute the sum/mean/std for each column of M\n",
    "* `axis=1` we compute the sum/mean/std for each row of M"
   ]
  },
  {
   "cell_type": "code",
   "execution_count": null,
   "metadata": {},
   "outputs": [],
   "source": [
    "print('matrix\\n',m)\n",
    "print()\n",
    "\n",
    "print('sum of each column\\n',m.sum(axis=0))\n",
    "print('mean of each column\\n',m.mean(axis=0))\n",
    "print('standard deviation of each column\\n',m.std(axis=0))\n",
    "print()\n",
    "\n",
    "print('sum of each row\\n',m.sum(axis=1))\n",
    "print('mean of each row\\n',m.mean(axis=1))\n",
    "print('standard deviation of each row\\n',m.std(axis=1))"
   ]
  },
  {
   "cell_type": "markdown",
   "metadata": {},
   "source": [
    "### Sorting\n",
    "Similarly to lists, \n",
    "* arrays can be sorted using the `sort()` method"
   ]
  },
  {
   "cell_type": "code",
   "execution_count": null,
   "metadata": {},
   "outputs": [],
   "source": [
    "arr = np.random.randn(8)\n",
    "arr"
   ]
  },
  {
   "cell_type": "code",
   "execution_count": null,
   "metadata": {},
   "outputs": [],
   "source": [
    "arr.sort()\n",
    "arr"
   ]
  },
  {
   "cell_type": "markdown",
   "metadata": {},
   "source": [
    "Multidimensional arrays are sorted by iteratively sorting each dimentsion. \n",
    "E.g. in matrices we \n",
    "* Sort the elements within each row\n",
    "* We sort the rows using the lexicographical order"
   ]
  },
  {
   "cell_type": "code",
   "execution_count": null,
   "metadata": {},
   "outputs": [],
   "source": [
    "arr2d = np.random.randn(5, 3)\n",
    "arr2d"
   ]
  },
  {
   "cell_type": "code",
   "execution_count": null,
   "metadata": {},
   "outputs": [],
   "source": [
    "arr2d.sort()\n",
    "arr2d"
   ]
  },
  {
   "cell_type": "markdown",
   "metadata": {},
   "source": [
    "But we can also sort single dimensions"
   ]
  },
  {
   "cell_type": "code",
   "execution_count": null,
   "metadata": {},
   "outputs": [],
   "source": [
    "arr2d = np.random.randn(5, 3)\n",
    "print(arr2d)\n",
    "print()\n",
    "arr2d.sort(1)\n",
    "print(arr2d)"
   ]
  },
  {
   "cell_type": "markdown",
   "metadata": {},
   "source": [
    "### Unique\n",
    "NumPy has some basic set operations for one-dimensional ndarrays. \n",
    "* The most common one is `np.unique()` \n",
    "  * returns the sorted unique values in an array"
   ]
  },
  {
   "cell_type": "code",
   "execution_count": null,
   "metadata": {},
   "outputs": [],
   "source": [
    "names = np.array(['Bob', 'Joe', 'Will', 'Bob', 'Will', 'Joe', 'Joe'])\n",
    "print(np.unique(names))\n",
    "\n",
    "# pure Python alternative:\n",
    "# sorted(set(names))"
   ]
  },
  {
   "cell_type": "markdown",
   "metadata": {},
   "source": [
    "# Pandas\n",
    "Pandas is another popular Python package. \n",
    "* It is built on top of NumPy (it used data structures based on arrays)\n",
    "\n",
    "Pandas provides rich data structures and functions designed to \n",
    "* make it easy, flexible and efficient working with structured data (CSV files, spreadsheets, databases)\n",
    "\n",
    "E.g., Pandas allows to easily perform complex data manipulation like \n",
    "* _reshape_ and _slice_\n",
    "* data aggregations \n",
    "* data selection"
   ]
  },
  {
   "cell_type": "markdown",
   "metadata": {},
   "source": [
    "## Install and import the Pandas module"
   ]
  },
  {
   "cell_type": "markdown",
   "metadata": {},
   "source": [
    "The first time you run this notebook you might have to install Pandas using the following script:"
   ]
  },
  {
   "cell_type": "code",
   "execution_count": null,
   "metadata": {},
   "outputs": [],
   "source": [
    "import sys\n",
    "!{sys.executable} -m pip install pandas"
   ]
  },
  {
   "cell_type": "markdown",
   "metadata": {},
   "source": [
    "The Python community has adopted a number of __naming conventions__ for commonly used modules:\n",
    "* Below you see the conventions for numpy, pandas and matplotlib"
   ]
  },
  {
   "cell_type": "code",
   "execution_count": null,
   "metadata": {},
   "outputs": [],
   "source": [
    "#import numpy as np\n",
    "import pandas as pd \n",
    "# import matplotlib.pyplot as plt"
   ]
  },
  {
   "cell_type": "markdown",
   "metadata": {},
   "source": [
    "## Series"
   ]
  },
  {
   "cell_type": "markdown",
   "metadata": {},
   "source": [
    "A Series is a one-dimensional list-like object containing \n",
    "* an ndarray containing the actual data\n",
    "* an associated ndarray of labels with one label (or index) per data element\n",
    "\n",
    "Intuitively, you can see a Series as \n",
    "* a dictionary \n",
    "* or, in its simplest form, as a 1-dimensional array/list\n",
    "\n",
    "The simplest form of Series consists of \n",
    "* an array of data, \n",
    "* an implicit array of labels containing the position of each element in the main array"
   ]
  },
  {
   "cell_type": "code",
   "execution_count": null,
   "metadata": {},
   "outputs": [],
   "source": [
    "obj = pd.Series([4, 7, -5, 3])\n",
    "obj"
   ]
  },
  {
   "cell_type": "markdown",
   "metadata": {},
   "source": [
    "We note that \n",
    "* The string representation of a Series shows the index on the left and the values on the right\n",
    "  * Obtained redefining the method `__str__` of the class Series, as you know from the previous class\n",
    "\n",
    "\n",
    "Since we did not specify an index for the data, \n",
    "* a default array of labels containing integers from 0 to N - 1 is created.\n",
    "  * each element is labeled with its own position in the array\n",
    "\n",
    "If you are interested only in one of the two arrays, just use"
   ]
  },
  {
   "cell_type": "code",
   "execution_count": null,
   "metadata": {},
   "outputs": [],
   "source": [
    "print('Series index: ',obj.index)\n",
    "print('Series values: ',obj.values)"
   ]
  },
  {
   "cell_type": "markdown",
   "metadata": {},
   "source": [
    "Let's now create a Series whose entries are labelled by characters."
   ]
  },
  {
   "cell_type": "code",
   "execution_count": null,
   "metadata": {},
   "outputs": [],
   "source": [
    "obj2 = pd.Series([4, 7, -5, 3], index=['d', 'b', 'a', 'c'])\n",
    "obj2"
   ]
  },
  {
   "cell_type": "markdown",
   "metadata": {},
   "source": [
    "### Indexing, selection, and filtering"
   ]
  },
  {
   "cell_type": "markdown",
   "metadata": {},
   "source": [
    "Similarly to Python dictionaries, \n",
    "* you can use values in the index to select values in the main array"
   ]
  },
  {
   "cell_type": "code",
   "execution_count": null,
   "metadata": {},
   "outputs": [],
   "source": [
    "print(\"obj2['d'] = \",obj2['d'])\n",
    "\n",
    "obj2['d'] = 6\n",
    "print(\"obj2['d']  (after obj2['d'] = 6) =  \",obj2['d'])\n",
    "      \n",
    "print(\"obj2[['c', 'a', 'd']] = \\n\",obj2[['c', 'a', 'd']])"
   ]
  },
  {
   "cell_type": "markdown",
   "metadata": {},
   "source": [
    "Indexes are preserved by NumPy array operations like\n",
    "* filtering with a boolean array, scalar multiplication, application of math functions"
   ]
  },
  {
   "cell_type": "code",
   "execution_count": null,
   "metadata": {},
   "outputs": [],
   "source": [
    "print(\"obj2\\n\",obj2)\n",
    "print()\n",
    "print(\"NumPy operation obj2[obj2 > 0] \\n\",obj2[obj2 > 0])\n",
    "print()\n",
    "print(\"NumPy operation obj2 * 2 \\n\",obj2 * 2)\n",
    "print()\n",
    "print(\"NumPy operation np.exp(obj2) \\n\",np.exp(obj2))"
   ]
  },
  {
   "cell_type": "markdown",
   "metadata": {},
   "source": [
    "You create a Series using a dict and a list as index\n",
    "* the list contains the keys of interest from the dict"
   ]
  },
  {
   "cell_type": "code",
   "execution_count": null,
   "metadata": {},
   "outputs": [],
   "source": [
    "sdata = {'Ohio': 35000, 'Texas': 71000, 'Oregon': 16000, 'Utah': 5000}\n",
    "states = ['California', 'Ohio', 'Oregon', 'Texas']\n",
    "obj4 = pd.Series(sdata, index=states)\n",
    "obj4 "
   ]
  },
  {
   "cell_type": "markdown",
   "metadata": {},
   "source": [
    "We note that\n",
    "* 3 values found in sdata were placed in the appropriate locations, \n",
    "* but since no value for `'California'` was found, it got a `NaN` (not a number) \n",
    "  * which is considered in pandas to mark missing/NA/NaN values\n",
    "  \n",
    "The `isnull` and `notnull` functions in pandas detect such missing values:"
   ]
  },
  {
   "cell_type": "code",
   "execution_count": null,
   "metadata": {},
   "outputs": [],
   "source": [
    "pd.isnull(obj4) "
   ]
  },
  {
   "cell_type": "code",
   "execution_count": null,
   "metadata": {},
   "outputs": [],
   "source": [
    "pd.notnull(obj4) "
   ]
  },
  {
   "cell_type": "markdown",
   "metadata": {},
   "source": [
    "E.g., if you want to use only the non-null values you do:"
   ]
  },
  {
   "cell_type": "code",
   "execution_count": null,
   "metadata": {},
   "outputs": [],
   "source": [
    "obj4[pd.notnull(obj4)]"
   ]
  },
  {
   "cell_type": "markdown",
   "metadata": {},
   "source": [
    "## DataFrame\n",
    "* A Series can be seen as a table with 1 column\n",
    "* A DataFrame is a proper table with more columns\n",
    "  * A series is just a simpler version of a dataframe\n",
    "  * A dataframe is a series with 'more main arrays' (one per column)\n",
    "  * DataFrames are the most important objects in pandas"
   ]
  },
  {
   "cell_type": "markdown",
   "metadata": {},
   "source": [
    "### Creating DataFrame objects"
   ]
  },
  {
   "cell_type": "markdown",
   "metadata": {},
   "source": [
    "The most common way to build a dataframe is by \n",
    "* using a dict containing lists or arrays of same length\n",
    "  * each key/label becomes a column\n",
    "    * if you specify a subset of key/labels, then only the corresponding column will be added\n",
    "    * if you pass a column that isn’t contained in data, it will get NA values\n",
    "  * each list/array element is a value for that column"
   ]
  },
  {
   "cell_type": "code",
   "execution_count": null,
   "metadata": {},
   "outputs": [],
   "source": [
    "data = {'state': ['Ohio', 'Ohio', 'Ohio', 'Nevada', 'Nevada', 'Nevada'],\n",
    "        'year': [2000, 2001, 2002, 2001, 2002, 2003],\n",
    "        'pop': [1.5, 1.7, 3.6, 2.4, 2.9, 3.2]}"
   ]
  },
  {
   "cell_type": "code",
   "execution_count": null,
   "metadata": {
    "collapsed": false,
    "editable": true,
    "jupyter": {
     "outputs_hidden": false
    }
   },
   "outputs": [],
   "source": [
    "frame = pd.DataFrame(data,columns=['state','pop','nonExistingColumn'])\n",
    "frame"
   ]
  },
  {
   "cell_type": "code",
   "execution_count": null,
   "metadata": {},
   "outputs": [],
   "source": [
    "frame = pd.DataFrame(data)\n",
    "frame"
   ]
  },
  {
   "cell_type": "markdown",
   "metadata": {},
   "source": [
    "We see above that the DataFrame also has an index/labels array\n",
    "* the first element in each row\n",
    "  * in this case we have the default array of labels show\n",
    "  * but specific ones can be given explicitly"
   ]
  },
  {
   "cell_type": "code",
   "execution_count": null,
   "metadata": {},
   "outputs": [],
   "source": [
    "frame1 = pd.DataFrame(data, index = ['a','b','c','d','e','f'] )\n",
    "frame1"
   ]
  },
  {
   "cell_type": "markdown",
   "metadata": {},
   "source": [
    "A column of a DataFrame can be retrieved as a Series \n",
    "* by dict-like notation \n",
    "* or by attribute:"
   ]
  },
  {
   "cell_type": "code",
   "execution_count": null,
   "metadata": {},
   "outputs": [],
   "source": [
    "frame2 = pd.DataFrame(data, columns=['year', 'state', 'pop', 'debt'], \n",
    "                      index=['one', 'two', 'three', 'four', 'five','six'])\n",
    "frame2"
   ]
  },
  {
   "cell_type": "code",
   "execution_count": null,
   "metadata": {},
   "outputs": [],
   "source": [
    "#Select single column or sequence of columns from the DataFrame\n",
    "frame2['state'] # by dict-like notation "
   ]
  },
  {
   "cell_type": "code",
   "execution_count": null,
   "metadata": {},
   "outputs": [],
   "source": [
    "frame2.state # by attribute"
   ]
  },
  {
   "cell_type": "markdown",
   "metadata": {},
   "source": [
    "### Updating DataFrame objects"
   ]
  },
  {
   "cell_type": "markdown",
   "metadata": {},
   "source": [
    "Values is a dataframe column can be modified by assignment. \n",
    "* If we assign a single value to a column, then the value is broadcasted to the whole column\n",
    "* E.g., the empty `debt` column can be initialized to 16.5 as:"
   ]
  },
  {
   "cell_type": "code",
   "execution_count": null,
   "metadata": {
    "collapsed": false,
    "editable": true,
    "jupyter": {
     "outputs_hidden": false
    }
   },
   "outputs": [],
   "source": [
    "frame2['debt'] = 16.5\n",
    "frame2"
   ]
  },
  {
   "cell_type": "markdown",
   "metadata": {},
   "source": [
    "When assigning lists or arrays to a column, the value’s length must match the length\n",
    "of the DataFrame. "
   ]
  },
  {
   "cell_type": "code",
   "execution_count": null,
   "metadata": {},
   "outputs": [],
   "source": [
    "frame2['debt'] = np.arange(6.)\n",
    "frame2"
   ]
  },
  {
   "cell_type": "markdown",
   "metadata": {
    "editable": true,
    "jupyter": {
     "outputs_hidden": false
    }
   },
   "source": [
    "Creating and deleting columns\n",
    "* Assigning a column that doesn’t exist will create a new column. \n",
    "* The del keyword will delete columns as with a dict"
   ]
  },
  {
   "cell_type": "code",
   "execution_count": null,
   "metadata": {
    "collapsed": false,
    "editable": true,
    "jupyter": {
     "outputs_hidden": false
    }
   },
   "outputs": [],
   "source": [
    "frame2['eastern'] =  (frame2.state == 'Ohio')\n",
    "frame2"
   ]
  },
  {
   "cell_type": "code",
   "execution_count": null,
   "metadata": {},
   "outputs": [],
   "source": [
    "del frame2['eastern']\n",
    "frame2"
   ]
  },
  {
   "cell_type": "markdown",
   "metadata": {},
   "source": [
    "We have just seen how to __delete columns__\n",
    "\n",
    "In order to __delete rows__ \n",
    "* you just use the `drop` method\n",
    "* BEWARE: __this will create a proper copy of the dataframe: a new object__"
   ]
  },
  {
   "cell_type": "code",
   "execution_count": null,
   "metadata": {},
   "outputs": [],
   "source": [
    "frame100 = frame2.drop(['five'])\n",
    "frame100"
   ]
  },
  {
   "cell_type": "code",
   "execution_count": null,
   "metadata": {},
   "outputs": [],
   "source": [
    "frame100['year']=100\n",
    "frame100"
   ]
  },
  {
   "cell_type": "code",
   "execution_count": null,
   "metadata": {},
   "outputs": [],
   "source": [
    "frame2"
   ]
  },
  {
   "cell_type": "markdown",
   "metadata": {},
   "source": [
    "Instead\n",
    "* The column returned when indexing a DataFrame is a view on the underlying data\n",
    "*  Thus, any modification to the Series will be reflected in the DataFrame.\n",
    "   * The column can be explicitly copied using the Series’s copy method."
   ]
  },
  {
   "cell_type": "markdown",
   "metadata": {},
   "source": [
    "If you create a dataframe using a 2-levels nested dictionary\n",
    "* The keys of the outer dictionary will be used for the column names\n",
    "* The keys of the inner dictionary will be used for the index names"
   ]
  },
  {
   "cell_type": "code",
   "execution_count": null,
   "metadata": {
    "collapsed": false,
    "editable": true,
    "jupyter": {
     "outputs_hidden": false
    }
   },
   "outputs": [],
   "source": [
    "inner_dict1 ={           2001: 2.4, 2002: 2.9}\n",
    "inner_dict2 ={2000: 1.5, 2001: 1.7, 2002: 3.6}\n",
    "\n",
    "outer_dict = {'Nevada': inner_dict1, 'Ohio': inner_dict2}\n",
    "frame3 = pd.DataFrame(outer_dict)\n",
    "frame3"
   ]
  },
  {
   "cell_type": "markdown",
   "metadata": {
    "editable": true,
    "jupyter": {
     "outputs_hidden": false
    }
   },
   "source": [
    "Similarly to multi-dimensional arrays, \n",
    "* you can transpose the result:"
   ]
  },
  {
   "cell_type": "code",
   "execution_count": null,
   "metadata": {
    "collapsed": false,
    "editable": true,
    "jupyter": {
     "outputs_hidden": false
    }
   },
   "outputs": [],
   "source": [
    "frame3.T"
   ]
  },
  {
   "cell_type": "markdown",
   "metadata": {},
   "source": [
    "You can also choose which keys of the inner dict (i.e. which indexes) to use\n",
    "* we are not using 2001\n",
    "* we are using a non-existing index 2003"
   ]
  },
  {
   "cell_type": "code",
   "execution_count": null,
   "metadata": {
    "collapsed": false,
    "editable": true,
    "jupyter": {
     "outputs_hidden": false
    }
   },
   "outputs": [],
   "source": [
    "pd.DataFrame(outer_dict, index=[2001, 2002, 2003])"
   ]
  },
  {
   "cell_type": "markdown",
   "metadata": {
    "editable": true,
    "jupyter": {
     "outputs_hidden": false
    }
   },
   "source": [
    "Like Series, the values attribute returns the data contained in the DataFrame as a 2D\n",
    "ndarray"
   ]
  },
  {
   "cell_type": "code",
   "execution_count": null,
   "metadata": {
    "collapsed": false,
    "editable": true,
    "jupyter": {
     "outputs_hidden": false
    }
   },
   "outputs": [],
   "source": [
    "frame3.values"
   ]
  },
  {
   "cell_type": "markdown",
   "metadata": {},
   "source": [
    "### Indexing, selection, and filtering\n"
   ]
  },
  {
   "cell_type": "markdown",
   "metadata": {},
   "source": [
    "Indexing into a DataFrame is for retrieving one or more columns:"
   ]
  },
  {
   "cell_type": "code",
   "execution_count": null,
   "metadata": {},
   "outputs": [],
   "source": [
    "data = pd.DataFrame(np.arange(16).reshape((4, 4)),\n",
    "                    index=['Ohio', 'Colorado', 'Utah', 'New York'],\n",
    "                    columns=['one', 'two', 'three', 'four'])\n",
    "data"
   ]
  },
  {
   "cell_type": "code",
   "execution_count": null,
   "metadata": {},
   "outputs": [],
   "source": [
    "data['two'] #retrieving one column"
   ]
  },
  {
   "cell_type": "code",
   "execution_count": null,
   "metadata": {},
   "outputs": [],
   "source": [
    "data[['three', 'one']] #retrieving two columns"
   ]
  },
  {
   "cell_type": "markdown",
   "metadata": {},
   "source": [
    "However, if you select by slicing or Boolean expression, it is interpreted as a selection on __rows__"
   ]
  },
  {
   "cell_type": "code",
   "execution_count": null,
   "metadata": {},
   "outputs": [],
   "source": [
    "data[:2] #rows by slicing "
   ]
  },
  {
   "cell_type": "code",
   "execution_count": null,
   "metadata": {},
   "outputs": [],
   "source": [
    "data[data['three'] > 5]  #rows by a boolean array"
   ]
  },
  {
   "cell_type": "markdown",
   "metadata": {},
   "source": [
    "#### Easier/more intuitive selection using loc and iloc"
   ]
  },
  {
   "cell_type": "markdown",
   "metadata": {},
   "source": [
    "The `iloc` field of dataframes allows to select subsets or rows and columns using NumPy-like notation\n",
    "* The iloc indexer for Pandas Dataframe is used for integer-location based indexing / selection by position.\n",
    "* `data.iloc[row selection, column selection]`"
   ]
  },
  {
   "cell_type": "code",
   "execution_count": null,
   "metadata": {},
   "outputs": [],
   "source": [
    "data"
   ]
  },
  {
   "cell_type": "code",
   "execution_count": null,
   "metadata": {},
   "outputs": [],
   "source": [
    "data.iloc[1]   # second row"
   ]
  },
  {
   "cell_type": "code",
   "execution_count": null,
   "metadata": {},
   "outputs": [],
   "source": [
    "data.iloc[-1]  # last row"
   ]
  },
  {
   "cell_type": "code",
   "execution_count": null,
   "metadata": {},
   "outputs": [],
   "source": [
    "data.iloc[:,1] # first column"
   ]
  },
  {
   "cell_type": "code",
   "execution_count": null,
   "metadata": {},
   "outputs": [],
   "source": [
    "# Multiple row and column selections using iloc and DataFrame\n",
    "data.iloc[:, 0:2] # first two columns of data frame with all rows"
   ]
  },
  {
   "cell_type": "code",
   "execution_count": null,
   "metadata": {},
   "outputs": [],
   "source": [
    "data.iloc[[1, 2], [3, 0, 1]] # 2nd 3rd row + 4th 1st 2nd columns."
   ]
  },
  {
   "cell_type": "markdown",
   "metadata": {},
   "source": [
    "The Pandas `loc` indexer works the same\n",
    "* but you can use column/index names\n",
    "    a.) Selecting rows by label/index\n",
    "    b.) Selecting rows with a boolean / conditional lookup\n",
    "The loc indexer is used with the same syntax as iloc: data.loc[row selection, column selection] ."
   ]
  },
  {
   "cell_type": "code",
   "execution_count": null,
   "metadata": {},
   "outputs": [],
   "source": [
    "print(data.loc[['Colorado','Ohio']]) #List of labels index.\n",
    "print()\n",
    "print(data.loc[:,'one']) # first column of data frame\n",
    "print()\n",
    "\n",
    "# Multiple row and column selections using loc and DataFrame\n",
    "print(data.loc[['Colorado','Ohio'], ['one','four']])  # 'Colorado','Ohio' row + 'one','four'columns."
   ]
  },
  {
   "cell_type": "markdown",
   "metadata": {},
   "source": [
    "### Arithmetics and Data Alignment\n",
    "When summing 2 dataframes, is their sets of indexes is not equal, \n",
    "* the resulting dataframe will contain the union of the two indexes, \n",
    "* summing only the rows with same index\n",
    "* while rows with indexes present in only one dataframe will be just copied\n",
    "* This is known as __data alignment__\n",
    "  * Intuitively, NA-rows (or 0-rows, see belw) are added to the dataframe to make them have same indexes"
   ]
  },
  {
   "cell_type": "code",
   "execution_count": null,
   "metadata": {},
   "outputs": [],
   "source": [
    "df1 = pd.DataFrame(np.arange(4.).reshape((2, 2)), columns=list('ab'),\n",
    "                   index=['Texas', 'Colorado'])\n",
    "df1"
   ]
  },
  {
   "cell_type": "code",
   "execution_count": null,
   "metadata": {},
   "outputs": [],
   "source": [
    "df2 = pd.DataFrame((np.arange(3.)+4).reshape((1, 3)), columns=list('abc'),\n",
    "                   index=['Texas'])\n",
    "df2"
   ]
  },
  {
   "cell_type": "code",
   "execution_count": null,
   "metadata": {},
   "outputs": [],
   "source": [
    "df1 + df2"
   ]
  },
  {
   "cell_type": "markdown",
   "metadata": {},
   "source": [
    "You might want to fill with a defau;t value \n",
    "* when a combination 'row,column' is found in at least one dataframe\n",
    "* 'Colorado,c' remains NA because it does not appear in any dataframe"
   ]
  },
  {
   "cell_type": "code",
   "execution_count": null,
   "metadata": {},
   "outputs": [],
   "source": [
    "df1.add(df2, fill_value=0)"
   ]
  },
  {
   "cell_type": "markdown",
   "metadata": {},
   "source": [
    "### A digression: lambda functions"
   ]
  },
  {
   "cell_type": "markdown",
   "metadata": {},
   "source": [
    "**Take material from functions**"
   ]
  },
  {
   "cell_type": "markdown",
   "metadata": {},
   "source": [
    "### Function application and mapping\n",
    "NumPy ufuncs (element-wise array methods) work fine with pandas objects:"
   ]
  },
  {
   "cell_type": "code",
   "execution_count": null,
   "metadata": {},
   "outputs": [],
   "source": [
    "frame = pd.DataFrame(np.random.randn(4, 3), columns=list('bde'),\n",
    "                     index=['Utah', 'Ohio', 'Texas', 'Oregon'])\n",
    "frame"
   ]
  },
  {
   "cell_type": "code",
   "execution_count": null,
   "metadata": {},
   "outputs": [],
   "source": [
    "np.abs(frame)"
   ]
  },
  {
   "cell_type": "markdown",
   "metadata": {},
   "source": [
    "But you can also apply any function thought for 1d arrays to each column or row."
   ]
  },
  {
   "cell_type": "code",
   "execution_count": null,
   "metadata": {
    "collapsed": false,
    "editable": true,
    "jupyter": {
     "outputs_hidden": false
    }
   },
   "outputs": [],
   "source": [
    "f = lambda arr: arr.max()\n",
    "frame.apply(f)"
   ]
  },
  {
   "cell_type": "code",
   "execution_count": null,
   "metadata": {
    "collapsed": false,
    "editable": true,
    "jupyter": {
     "outputs_hidden": false
    }
   },
   "outputs": [],
   "source": [
    "frame.apply(f, axis='columns')"
   ]
  },
  {
   "cell_type": "markdown",
   "metadata": {},
   "source": [
    "Element-wise Python functions can be used, too. "
   ]
  },
  {
   "cell_type": "code",
   "execution_count": null,
   "metadata": {
    "collapsed": false,
    "editable": true,
    "jupyter": {
     "outputs_hidden": false
    }
   },
   "outputs": [],
   "source": [
    "times_ten = lambda x: x*10\n",
    "frame.applymap(times_ten)"
   ]
  },
  {
   "cell_type": "code",
   "execution_count": null,
   "metadata": {
    "collapsed": false,
    "editable": true,
    "jupyter": {
     "outputs_hidden": false
    }
   },
   "outputs": [],
   "source": [
    "frame['e'].map(times_ten)"
   ]
  },
  {
   "cell_type": "markdown",
   "metadata": {
    "editable": true
   },
   "source": [
    "### Sorting\n",
    "To sort\n",
    "lexicographically by row or column index, use the sort_index method, which returns\n",
    "a new, sorted object:"
   ]
  },
  {
   "cell_type": "code",
   "execution_count": null,
   "metadata": {
    "collapsed": false,
    "editable": true,
    "jupyter": {
     "outputs_hidden": false
    }
   },
   "outputs": [],
   "source": [
    "obj = pd.Series(range(4), index=['d', 'a', 'b', 'c'])\n",
    "obj"
   ]
  },
  {
   "cell_type": "code",
   "execution_count": null,
   "metadata": {},
   "outputs": [],
   "source": [
    "obj.sort_index()"
   ]
  },
  {
   "cell_type": "code",
   "execution_count": null,
   "metadata": {
    "collapsed": false,
    "editable": true,
    "jupyter": {
     "outputs_hidden": false
    }
   },
   "outputs": [],
   "source": [
    "frame = pd.DataFrame(np.arange(9).reshape((3, 3)),\n",
    "                     index=['three', 'two','one'],\n",
    "                     columns=['c', 'a', 'b'])\n",
    "frame"
   ]
  },
  {
   "cell_type": "code",
   "execution_count": null,
   "metadata": {},
   "outputs": [],
   "source": [
    "frame.sort_index() # sorting by the index"
   ]
  },
  {
   "cell_type": "code",
   "execution_count": null,
   "metadata": {},
   "outputs": [],
   "source": [
    "frame.sort_index(axis=1,ascending=False) #  sorting  by column index  in descending order"
   ]
  },
  {
   "cell_type": "markdown",
   "metadata": {
    "editable": true
   },
   "source": [
    "### Summarizing and Computing Descriptive Statistics\n",
    "Series and Dataframes offer methods for computing comming mathematical/statistical methods. \n",
    "* Most of these are reductions or summary statistics, \n",
    "  * methods that compute\n",
    "    * For Series: a single value (e.g. sum or mean) \n",
    "    * For DataFrames: a Series of values from the rows or columns. "
   ]
  },
  {
   "cell_type": "code",
   "execution_count": null,
   "metadata": {
    "collapsed": false,
    "editable": true,
    "jupyter": {
     "outputs_hidden": false
    }
   },
   "outputs": [],
   "source": [
    "df = pd.DataFrame([[1.4, np.nan], [7.1, -4.5],\n",
    "                   [np.nan, np.nan], [0.75, -1.3]],\n",
    "                  index=['a', 'b', 'c', 'd'],\n",
    "                  columns=['one', 'two'])\n",
    "df"
   ]
  },
  {
   "cell_type": "code",
   "execution_count": null,
   "metadata": {
    "collapsed": false,
    "editable": true,
    "jupyter": {
     "outputs_hidden": false
    }
   },
   "outputs": [],
   "source": [
    "df.sum(axis='columns')"
   ]
  },
  {
   "cell_type": "code",
   "execution_count": null,
   "metadata": {
    "editable": true
   },
   "outputs": [],
   "source": [
    "df.sum()"
   ]
  },
  {
   "cell_type": "markdown",
   "metadata": {},
   "source": [
    "Note that NaN are ignored\n",
    "* `9.25/3 = 3.083333`"
   ]
  },
  {
   "cell_type": "code",
   "execution_count": null,
   "metadata": {},
   "outputs": [],
   "source": [
    "df.mean()"
   ]
  },
  {
   "cell_type": "markdown",
   "metadata": {},
   "source": [
    "idxmin and idxmax, return \n",
    "* the index containing the minimum or maximum values"
   ]
  },
  {
   "cell_type": "code",
   "execution_count": null,
   "metadata": {},
   "outputs": [],
   "source": [
    "df"
   ]
  },
  {
   "cell_type": "code",
   "execution_count": null,
   "metadata": {
    "collapsed": false,
    "editable": true,
    "jupyter": {
     "outputs_hidden": false
    }
   },
   "outputs": [],
   "source": [
    "df.idxmax()"
   ]
  },
  {
   "cell_type": "markdown",
   "metadata": {},
   "source": [
    "The method `describe` computes a number of summary statistics in one shot:"
   ]
  },
  {
   "cell_type": "code",
   "execution_count": null,
   "metadata": {
    "editable": true
   },
   "outputs": [],
   "source": [
    "df.describe() #Compute set of summary statistics for Series or each DataFrame column"
   ]
  },
  {
   "cell_type": "markdown",
   "metadata": {},
   "source": [
    "# Simple application to Italian COVID data - load/manipulate remote CSV file"
   ]
  },
  {
   "cell_type": "markdown",
   "metadata": {},
   "source": [
    "Using Python and pandas, it is easy to read data from text files\n",
    "\n",
    "One convenient feature is _type inference_\n",
    "* You don’t need to specify which columns are numeric, integer, boolean, or string. \n",
    "* Handling dates and other custom types requires a bit more effort, though. "
   ]
  },
  {
   "cell_type": "markdown",
   "metadata": {},
   "source": [
    "Do you remember the [Italian COVID CSV data used in class 4?](https://htmlpreview.github.io/?https://github.com/andrea-vandin/IntroToPython20192020/blob/master/jupyter/jupyterNotebooks/html/04ControlAndRepetitionStatements.html)\n",
    "* Let's read one such online CSV file\n",
    "* and load it into a DataFrame\n",
    "* __You just need 1 instruction__"
   ]
  },
  {
   "cell_type": "code",
   "execution_count": null,
   "metadata": {},
   "outputs": [],
   "source": [
    "#Load delimited data from a file, URL, or file-like object. Use comma as default delimiter\n",
    "covid_data = pd.read_csv('https://raw.githubusercontent.com/pcm-dpc/COVID-19/master/dati-andamento-nazionale/dpc-covid19-ita-andamento-nazionale.csv')"
   ]
  },
  {
   "cell_type": "code",
   "execution_count": null,
   "metadata": {},
   "outputs": [],
   "source": [
    "covid_data.head()"
   ]
  },
  {
   "cell_type": "code",
   "execution_count": null,
   "metadata": {},
   "outputs": [],
   "source": [
    "covid_data.tail()"
   ]
  },
  {
   "cell_type": "code",
   "execution_count": null,
   "metadata": {},
   "outputs": [],
   "source": [
    "covid_data.info()"
   ]
  },
  {
   "cell_type": "code",
   "execution_count": null,
   "metadata": {},
   "outputs": [],
   "source": [
    "covid_data['data']"
   ]
  },
  {
   "cell_type": "code",
   "execution_count": null,
   "metadata": {},
   "outputs": [],
   "source": [
    "#Get the last day in the CSV file\n",
    "last_day = covid_data['data'].iloc[-1]\n",
    "last_day"
   ]
  },
  {
   "cell_type": "markdown",
   "metadata": {},
   "source": [
    "Using DataFrame’s to_csv method, we can write the data out to a comma-separated file\n",
    "* Let's create a CSV file containing only the data about the latest day"
   ]
  },
  {
   "cell_type": "code",
   "execution_count": null,
   "metadata": {},
   "outputs": [],
   "source": [
    "print(covid_data.data == last_day) # Evaluates to True for the rows that satisfy this guard\n",
    "cov_regions_last_day = covid_data[covid_data.data == last_day] # Get all the rows that satisfy the guard above\n",
    "cov_regions_last_day"
   ]
  },
  {
   "cell_type": "code",
   "execution_count": null,
   "metadata": {},
   "outputs": [],
   "source": [
    "cov_regions_last_day.to_csv('covid_lastday.csv')"
   ]
  },
  {
   "cell_type": "markdown",
   "metadata": {
    "editable": true
   },
   "source": [
    "# Simple application to Yahoo! Finance stock prices - %change, correlation, covariance\n",
    "Let’s consider some DataFrames of stock prices obtained from\n",
    "Yahoo! Finance:"
   ]
  },
  {
   "cell_type": "code",
   "execution_count": null,
   "metadata": {},
   "outputs": [],
   "source": [
    "# install Yahoo! Finance market data downloader for Pandas\n",
    "import sys \n",
    "!{sys.executable} -m pip install pandas_datareader\n",
    "!{sys.executable} -m pip install matplotlib\n",
    "!{sys.executable} -m pip install Jinja2 # Helps style a DataFrame or Series according to the data with HTML and CSS.\n",
    "\n",
    "\n",
    "import pandas_datareader.data as web\n",
    "\n",
    "# Visualizzation libs\n",
    "# keeps the plots in one place. calls image as static pngs\n",
    "%matplotlib inline\n",
    "import matplotlib.pyplot as plt # side-stepping mpl backend"
   ]
  },
  {
   "cell_type": "code",
   "execution_count": null,
   "metadata": {
    "editable": true
   },
   "outputs": [],
   "source": [
    "all_data = {ticker: web.get_data_yahoo(ticker)\n",
    "            for ticker in ['AAPL', 'IBM', 'MSFT', 'GOOG']}\n",
    "all_data['AAPL']"
   ]
  },
  {
   "cell_type": "code",
   "execution_count": null,
   "metadata": {},
   "outputs": [],
   "source": [
    "price = pd.DataFrame({ticker: data['Adj Close'] for ticker, data in all_data.items()})\n",
    "price.head()"
   ]
  },
  {
   "cell_type": "code",
   "execution_count": null,
   "metadata": {},
   "outputs": [],
   "source": [
    "price.tail()"
   ]
  },
  {
   "cell_type": "code",
   "execution_count": null,
   "metadata": {},
   "outputs": [],
   "source": [
    "# plotting price dataframe. \n",
    "price.plot(figsize=(15,5))"
   ]
  },
  {
   "cell_type": "markdown",
   "metadata": {},
   "source": [
    "Now we compute the percent changes of the prices\n",
    "* % change from previous value"
   ]
  },
  {
   "cell_type": "code",
   "execution_count": null,
   "metadata": {
    "collapsed": false,
    "editable": true,
    "jupyter": {
     "outputs_hidden": false
    }
   },
   "outputs": [],
   "source": [
    "returns = price.pct_change() # Computes the percentage change from the immediately previous row by default. This is useful in comparing the percentage of change in a time series of elements.\n",
    "returns.tail()"
   ]
  },
  {
   "cell_type": "code",
   "execution_count": null,
   "metadata": {},
   "outputs": [],
   "source": [
    "returns.plot(figsize=(15,5))"
   ]
  },
  {
   "cell_type": "markdown",
   "metadata": {},
   "source": [
    "DataFrames offer two methods for comptuing \n",
    "* the correlation among the elements in the DataFrame (`corr`)\n",
    "* the covariance matrxi of the DataFrame (`cov`)"
   ]
  },
  {
   "cell_type": "code",
   "execution_count": null,
   "metadata": {
    "collapsed": false,
    "editable": true,
    "jupyter": {
     "outputs_hidden": false
    }
   },
   "outputs": [],
   "source": [
    "returns.corr()"
   ]
  },
  {
   "cell_type": "code",
   "execution_count": null,
   "metadata": {},
   "outputs": [],
   "source": [
    "\n",
    "returns.corr().style.background_gradient(cmap='Reds')"
   ]
  },
  {
   "cell_type": "code",
   "execution_count": null,
   "metadata": {},
   "outputs": [],
   "source": [
    "returns.cov()"
   ]
  },
  {
   "cell_type": "markdown",
   "metadata": {},
   "source": [
    "# More complex application to Italian COVID data - Advanced Plotting with pandas \n",
    "Pandas offers a number of plotting methods for DataFrame objects"
   ]
  },
  {
   "cell_type": "markdown",
   "metadata": {},
   "source": [
    "The Italian Civil Protection Department publishes everyday [data on the status of the COVID-19 epidemy in Italy](https://github.com/pcm-dpc/COVID-19)\n",
    "\n",
    "The repository contains\n",
    "- ‘dati-andamento-nazionale’ (data relating to the national trend of SARS-CoV-2 spread), \n",
    "- ‘dati-regioni’ (data relating to the regional trend of SARS-CoV-2 spread),\n",
    "- ‘dati-province’ (data relating to the provincial trend of SARS-CoV-2 spread) \n"
   ]
  },
  {
   "cell_type": "code",
   "execution_count": null,
   "metadata": {},
   "outputs": [],
   "source": [
    "import numpy as np\n",
    "import pandas as pd \n",
    "import matplotlib.pyplot as plt\n",
    "import warnings\n",
    "warnings.filterwarnings(\"ignore\")"
   ]
  },
  {
   "cell_type": "markdown",
   "metadata": {},
   "source": [
    "## Line Plots\n",
    "Series and DataFrame each have a plot method for making many different types of plots\n",
    "* By default, they make line plots "
   ]
  },
  {
   "cell_type": "code",
   "execution_count": null,
   "metadata": {},
   "outputs": [],
   "source": [
    "# load data relating to the national trend of SARS-CoV-2 spread on Pandas DataFrame\n",
    "url_dpc_nazionale = 'https://raw.githubusercontent.com/pcm-dpc/COVID-19/master/dati-andamento-nazionale/dpc-covid19-ita-andamento-nazionale.csv'\n",
    "covid_italy = pd.read_csv(url_dpc_nazionale, index_col='data')\n",
    "\n",
    "covid_italy.index = pd.to_datetime(covid_italy.index) # converts 'data' column from object to datatime type\n",
    "covid_italy.tail(2)"
   ]
  },
  {
   "cell_type": "code",
   "execution_count": null,
   "metadata": {},
   "outputs": [],
   "source": [
    "from datetime import datetime\n",
    "\n",
    "#Let's get the data of interest ('totale_positivi','dimessi_guariti','deceduti')\n",
    "covid_italy_filter = covid_italy[['totale_positivi','dimessi_guariti','deceduti' ]]\n",
    "\n",
    "covid_italy_filter"
   ]
  },
  {
   "cell_type": "code",
   "execution_count": null,
   "metadata": {},
   "outputs": [],
   "source": [
    "# We now create the plot\n",
    "covid_italy_filter.plot(figsize=(20, 7), linewidth=3, alpha=0.8, title=\"Italian National trend of COVID19\") \n",
    "\n",
    "# and add annotations\n",
    "annotations = {datetime(2020, 3, 1) :'Decreto \"Zone rosse\"',\n",
    "               datetime(2020, 3, 9) :'Decreto \"Io resto a casa\"',\n",
    "               datetime(2020, 3, 22):'Decreto \"Chiudi Italia\"',\n",
    "               datetime(2020, 5, 4) :'Decreto \"Fase 2\"'}\n",
    " \n",
    "for d,a in annotations.items():\n",
    "    plt.annotate(a,(d, 0), rotation=90, horizontalalignment='right')\n",
    "    plt.axvline(d, color='k', linestyle='--')   \n",
    "    \n",
    "plt.show()"
   ]
  },
  {
   "cell_type": "markdown",
   "metadata": {},
   "source": [
    "Eliminiamo un certo numero di righe cambiando asse delle y"
   ]
  },
  {
   "cell_type": "markdown",
   "metadata": {},
   "source": [
    "## Bar Plots\n",
    "Making bar plots instead of line plots is as simple as passing \n",
    "* `kind='bar'` (for vertical bars) or \n",
    "* `kind='barh'` (for horizontal bars)."
   ]
  },
  {
   "cell_type": "code",
   "execution_count": null,
   "metadata": {},
   "outputs": [],
   "source": [
    "# load data relating to the regional trend of SARS-CoV-2 spread\n",
    "url_dpc_regioni = 'https://raw.githubusercontent.com/pcm-dpc/COVID-19/master/dati-regioni/dpc-covid19-ita-regioni.csv'\n",
    "covid_regions = pd.read_csv(url_dpc_regioni)\n",
    "covid_regions.index = pd.to_datetime(covid_regions.data)\n",
    "covid_regions = covid_regions.rename(columns={'denominazione_regione': 'regione'})\n",
    "\n",
    "# get last day data relating to the regional trend of SARS-CoV-2 spread\n",
    "cov_regions_last_day = covid_regions[covid_regions.data ==  covid_regions.data.iloc[-1]] # get last day data\n",
    "cov_regions_last_day.index = cov_regions_last_day.regione\n",
    "\n",
    "#drop some unnecessary columns\n",
    "#cov_regions_last_day = cov_regions_last_day.drop(['lat','long','codice_regione',\"stato\",\"regione\",\"note_it\",\"note_en\"], axis = 1)\n",
    "cov_regions_last_day = cov_regions_last_day.drop(['lat','long','codice_regione',\"stato\",\"regione\",\"note\"], axis = 1)\n",
    "\n",
    "#Let's get the data of interest (Deceduti vs Positivi) and plot them\n",
    "title = f\" Deceduti vs Positivi updated at {covid_regions.index[-1].strftime('%D')}\"\n",
    "#Here we are using 'bar!'\n",
    "cov_regions_last_day[['totale_ospedalizzati','isolamento_domiciliare','totale_positivi','deceduti']].plot(kind='bar', figsize =(20,7),grid=True,title=title)\n",
    "\n",
    "plt.show()"
   ]
  },
  {
   "cell_type": "markdown",
   "metadata": {},
   "source": [
    "### Stacked bar plots\n",
    "Stacked bar plots are created from a DataFrame by passing `stacked=True`, resulting in\n",
    "the value in each row being stacked together"
   ]
  },
  {
   "cell_type": "code",
   "execution_count": null,
   "metadata": {},
   "outputs": [],
   "source": [
    "#Let's get the data of interest ('terapia_intensiva','totale_ospedalizzati') and plot them on stacked bar\n",
    "title = f\"Positivi updated at {covid_regions.index[-1].strftime('%D')}\"\n",
    "cov_regions_last_day[['terapia_intensiva','totale_ospedalizzati']].plot(kind='bar', stacked=True, figsize =(20,7),grid=True,title=title)\n",
    "\n",
    "plt.show()"
   ]
  },
  {
   "cell_type": "markdown",
   "metadata": {},
   "source": [
    "## Scatter Matrix \n",
    "In exploratory data analysis it is helpful to look at how pairs of variables relate to each other\n",
    "* we are interested in _plots relating pairs of variables_\n",
    "* this is known as a _pairs plot_ or _scatter plot matrix_. \n",
    "\n",
    "Making such a plot from scratch is a bit of work. \n",
    "* Luckily pandas has a `scatter_matrix` function for creating one from a DataFrame. \n",
    "* It also supports placing histograms or density plots of each variable along the diagonal."
   ]
  },
  {
   "cell_type": "code",
   "execution_count": null,
   "metadata": {},
   "outputs": [],
   "source": [
    "covid_italy = pd.read_csv(url_dpc_nazionale, index_col='data')\n",
    "covid_italy.index = pd.to_datetime(covid_italy.index) # converts 'data' column from object to datatime type\n",
    "covid_italy.tail()"
   ]
  },
  {
   "cell_type": "code",
   "execution_count": null,
   "metadata": {},
   "outputs": [],
   "source": [
    "#drop unnecessary columns\n",
    "#covid_italy.drop(columns=[\"stato\",\"note\"], inplace=True)\n",
    "#covid_italy.drop(columns=[\"stato\",\"casi_da_sospetto_diagnostico\",\"casi_da_screening\",\"note\",\"ingressi_terapia_intensiva\",\"note_test\",\"note_casi\",\"totale_positivi_test_molecolare\",\"totale_positivi_test_antigenico_rapido\",\"tamponi_test_molecolare\",\"tamponi_test_antigenico_rapido\"], inplace=True)\n",
    "covid_italy.drop(columns=[\"note_test\",\"note_casi\"], inplace=True)\n",
    "#covid_italy.drop(columns=[\"note_test\",\"note_casi\",\"totale_positivi_test_molecolare\",\"totale_positivi_test_antigenico_rapido\",\"tamponi_test_molecolare\",\"tamponi_test_antigenico_rapido\"], inplace=True)\n",
    "\n",
    "\n",
    "covid_italy['totale_casi']"
   ]
  },
  {
   "cell_type": "code",
   "execution_count": null,
   "metadata": {},
   "outputs": [],
   "source": [
    "covid_italy['terapia_intensiva']"
   ]
  },
  {
   "cell_type": "code",
   "execution_count": null,
   "metadata": {},
   "outputs": [],
   "source": [
    "#covid_italy = pd.read_csv(url_dpc_nazionale, index_col='data')\n",
    "# covid_italy.index = pd.to_datetime(covid_italy.index) # converts 'data' column from object to datatime type\n",
    "# #covid_italy.drop(columns=[\"note_test\",\"note_casi\",\"totale_positivi_test_molecolare\",\"totale_positivi_test_antigenico_rapido\",\"tamponi_test_molecolare\",\"tamponi_test_antigenico_rapido\"], inplace=True)\n",
    "# covid_italy.drop(columns=[\"note_test\",\"note_casi\",\"totale_positivi_test_molecolare\",\"totale_positivi_test_antigenico_rapido\",\"tamponi_test_molecolare\",\"tamponi_test_antigenico_rapido\"], inplace=True)\n",
    "\n",
    "\n",
    "pd.plotting.scatter_matrix(covid_italy,figsize =(20,25),  color='k', alpha=0.3)\n",
    "plt.show()"
   ]
  },
  {
   "cell_type": "code",
   "execution_count": null,
   "metadata": {},
   "outputs": [],
   "source": [
    "covid_italy.drop(columns=[\"totale_positivi_test_molecolare\",\"totale_positivi_test_antigenico_rapido\",\"tamponi_test_molecolare\",\"tamponi_test_antigenico_rapido\"], inplace=True)\n",
    "\n",
    "pd.plotting.scatter_matrix(covid_italy,figsize =(20,25),  color='k', alpha=0.3)\n",
    "plt.show()"
   ]
  },
  {
   "cell_type": "code",
   "execution_count": null,
   "metadata": {},
   "outputs": [],
   "source": []
  }
 ],
 "metadata": {
  "kernelspec": {
   "display_name": "env_IPDPP_GSSI2021",
   "language": "python",
   "name": "env_ipdpp_gssi2021"
  },
  "language_info": {
   "codemirror_mode": {
    "name": "ipython",
    "version": 3
   },
   "file_extension": ".py",
   "mimetype": "text/x-python",
   "name": "python",
   "nbconvert_exporter": "python",
   "pygments_lexer": "ipython3",
   "version": "3.8.2"
  },
  "toc-autonumbering": true,
  "toc-showcode": false,
  "toc-showmarkdowntxt": false
 },
 "nbformat": 4,
 "nbformat_minor": 4
}
