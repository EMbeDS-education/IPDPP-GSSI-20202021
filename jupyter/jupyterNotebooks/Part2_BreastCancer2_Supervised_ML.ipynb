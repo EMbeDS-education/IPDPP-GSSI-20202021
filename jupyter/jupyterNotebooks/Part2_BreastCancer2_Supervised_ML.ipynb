{
 "cells": [
  {
   "cell_type": "markdown",
   "metadata": {},
   "source": [
    "<center><font size=\"+2\">Introduction to Programming and</font></center>\n",
    "<center><font size=\"+2\">Data Processing in Python 2020/2021</font></center>\n",
    "<br/>\n",
    "<center><font size=\"+1\">Core course, PhD program in Computer Science</font></center>\n",
    "<center><font size=\"+1\">GSSI Gran Sasso Science Institute, L'Aquila, Italy</font></center><br/>\n",
    "\n",
    "<center><font size=\"+2\">Course responsibles</font></center>\n",
    "<center><font size=\"+1\"><a href=\"https://www.linkedin.com/in/daniele-licari\">Daniele Licari</a> &nbsp; d.licari@santannapisa.it</font></center>\n",
    "<center><font size=\"+1\">\n",
    "    &nbsp;&nbsp;\n",
    "    <a href=\"https://www.santannapisa.it/en/andrea-vandin\">Andrea Vandin</a> &nbsp; a.vandin@santannapisa.it</font></center>\n",
    "\n",
    "---\n",
    "---"
   ]
  },
  {
   "cell_type": "markdown",
   "metadata": {},
   "source": [
    "<center><font size=\"+2\">Part 2</font></center>\n",
    "<center><font size=\"+1\">Breast Cancer Diagnosis 2</font></center>\n",
    "<center><font size=\"+1\">Overview of supervised learning</font></center>\n",
    "\n",
    "---\n",
    "---"
   ]
  },
  {
   "cell_type": "markdown",
   "metadata": {},
   "source": [
    "**This notebook provides an overview of supervised learning pipeline**\n",
    "\n",
    "   * use Scikit-learn library package for classification task\n",
    "   * understand metrics of classification performance evaluation\n",
    "   * demonstrate the problem of model overfitting.\n",
    "   * tune the hyperparameters and model validation\n",
    "\n",
    "This notebook presents Python programming examples for machine learning supervised: splitting data, predictive models, decision boundary, evaluation, cross-validation, hyperparameters tuning.  \n",
    "You can find more details in the *APPENDIX* of this document.\n",
    "\n",
    "**References** \n",
    "This notebook is mainly based on the following books:\n",
    "\n",
    "* [Python for Data Analysis, 2nd edition, William Wesley McKinney (O’Reilly)](https://www.oreilly.com/library/view/python-data-science/9781491912126/)\n",
    "* [Freely available Jupyter notebooks covering the examples/material of each chapter](https://github.com/jakevdp/PythonDataScienceHandbook/tree/master/notebooks)\n",
    "* [Introduction to Data Mining (2nd Edition), Pang-Ning Tan et al.](https://www.cse.msu.edu/~ptan/)\n",
    "* [Statistics and Machine Learning in Python, E.Duchesnay, T.Löfstedt, F.Younes](ftp://ftp.cea.fr/pub/unati/people/educhesnay/pystatml/StatisticsMachineLearningPythonDraft.pdf)\n",
    "* [Introduction to Machine Learning Algorithms, KNIME AG](https://www.knime.com/knime-course-material-download-page)\n",
    "\n",
    "Some pictures have been taken from these sources. \n",
    "This notebook has been created by Daniele Licari and further elaborated by Andrea Vandin.\n",
    "\n",
    "Read the step-by-step instructions below carefully. To execute the code, click on the corresponding cell and press the SHIFT-ENTER keys simultaneously."
   ]
  },
  {
   "cell_type": "markdown",
   "metadata": {},
   "source": [
    "# A visual introduction to supervised machine learning\n",
    "Supervised learning models tries to learn the relationship between measured features X of data and some labels y associated with the data; The learning algorithm adjusts (learns) the model parameters throughout a number of iterations to maximize/minimize a likelihood/error function on output. Once this model is determined, it can be used to apply labels to new, unknown data. This is further subdivided into:\n",
    "  - *Classification* tasks, the labels are discrete categories\n",
    "  - *Regression* tasks, the labels are continuous quantities. \n",
    "\n",
    "The following interactive example was written by Stephanie and Tony on R2D3. we will create a machine learning model to distinguish homes in New York from homes in San Francisco. \n",
    "\n",
    "It introduces you to the decision boundary, decision tree, test model, and overfitting.\n"
   ]
  },
  {
   "cell_type": "code",
   "execution_count": 293,
   "metadata": {},
   "outputs": [
    {
     "data": {
      "text/html": [
       "\n",
       "        <iframe\n",
       "            width=\"1200\"\n",
       "            height=\"650\"\n",
       "            src=\"http://www.r2d3.us/visual-intro-to-machine-learning-part-1/\"\n",
       "            frameborder=\"0\"\n",
       "            allowfullscreen\n",
       "        ></iframe>\n",
       "        "
      ],
      "text/plain": [
       "<IPython.lib.display.IFrame at 0x2b5998dac48>"
      ]
     },
     "execution_count": 293,
     "metadata": {},
     "output_type": "execute_result"
    }
   ],
   "source": [
    "from IPython.display import display, HTML,IFrame \n",
    "IFrame(src=\"http://www.r2d3.us/visual-intro-to-machine-learning-part-1/\", width=1200, height=650)"
   ]
  },
  {
   "cell_type": "markdown",
   "metadata": {},
   "source": [
    "# Classification of Benign and Malignant Breast Cancer \n",
    "We will first take a look at a simple classification task, features are computed from a digitized image of a fine needle aspirate (FNA) of a breast mass. They describe characteristics of the cell nuclei present in the image.\n",
    "\n",
    "<img src=\"img/Breast-Biopsy-2.jpg\" >\n",
    "\n",
    "**Attribute Information**\n",
    "- radius (mean of distances from center to points on the perimeter)\n",
    "- texture (standard deviation of gray-scale values)\n",
    "- perimeter\n",
    "- area\n",
    "- smoothness (local variation in radius lengths)\n",
    "- compactness (perimeter^2 / area - 1.0)\n",
    "- concavity (severity of concave portions of the contour)\n",
    "- concave points (number of concave portions of the contour)\n",
    "- symmetry \n",
    "- fractal dimension (\"coastline approximation\" - 1)\n",
    "\n",
    "The mean, standard error, and \"worst\" or largest (mean of the three\n",
    "largest values) of these features were computed for each image,\n",
    "resulting in 30 features.  For instance, field 3 is Mean Radius, field\n",
    "13 is Radius SE, field 23 is Worst Radius.\n",
    "\n",
    "**Classification Task**\n",
    "\n",
    "We want predict the benign or malignant breast cancer using machine learning \n",
    "\n",
    "**Diagnosis Class:**\n",
    "* malignant\n",
    "* benign\n",
    "\n",
    "![alt text](img/fna-benign1.png)\n",
    "![alt text](img/fna-malignant1.png)\n",
    "\n",
    "This dataset is also available via the ftp server UW CS: http://ftp.cs.wisc.edu/math-prog/cpo-dataset/machine-learn/cancer/WDBC/"
   ]
  },
  {
   "cell_type": "markdown",
   "metadata": {},
   "source": [
    "## Load libraries"
   ]
  },
  {
   "cell_type": "code",
   "execution_count": 13,
   "metadata": {},
   "outputs": [],
   "source": [
    "# Data Processing libs\n",
    "import numpy as np # linear algebra\n",
    "import pandas as pd # data processing, CSV file I/O (e.g. pd.read_csv)\n",
    "\n",
    "# Visualizzation libs\n",
    "# keeps the plots in one place. calls image as static pngs\n",
    "%matplotlib inline\n",
    "import matplotlib.pyplot as plt # side-stepping mpl backend\n",
    "from IPython.display import display, Markdown # display Markdown code using Python\n",
    "import seaborn as sns # data visualization library based on matplotlib\n",
    "\n",
    "from warnings import filterwarnings\n",
    "filterwarnings('ignore')"
   ]
  },
  {
   "cell_type": "markdown",
   "metadata": {},
   "source": [
    "## Load data\n",
    "Let's load preprocessed data by the Part 1 into Pandas, and get *Features matrix* and *Target array*"
   ]
  },
  {
   "cell_type": "code",
   "execution_count": 14,
   "metadata": {},
   "outputs": [
    {
     "data": {
      "text/html": [
       "<div>\n",
       "<style scoped>\n",
       "    .dataframe tbody tr th:only-of-type {\n",
       "        vertical-align: middle;\n",
       "    }\n",
       "\n",
       "    .dataframe tbody tr th {\n",
       "        vertical-align: top;\n",
       "    }\n",
       "\n",
       "    .dataframe thead th {\n",
       "        text-align: right;\n",
       "    }\n",
       "</style>\n",
       "<table border=\"1\" class=\"dataframe\">\n",
       "  <thead>\n",
       "    <tr style=\"text-align: right;\">\n",
       "      <th></th>\n",
       "      <th>mean texture</th>\n",
       "      <th>mean area</th>\n",
       "      <th>mean smoothness</th>\n",
       "      <th>mean compactness</th>\n",
       "      <th>mean concavity</th>\n",
       "      <th>mean concave points</th>\n",
       "      <th>mean symmetry</th>\n",
       "      <th>mean fractal dimension</th>\n",
       "      <th>texture error</th>\n",
       "      <th>smoothness error</th>\n",
       "      <th>...</th>\n",
       "      <th>symmetry error</th>\n",
       "      <th>fractal dimension error</th>\n",
       "      <th>worst texture</th>\n",
       "      <th>worst smoothness</th>\n",
       "      <th>worst compactness</th>\n",
       "      <th>worst concavity</th>\n",
       "      <th>worst concave points</th>\n",
       "      <th>worst symmetry</th>\n",
       "      <th>worst fractal dimension</th>\n",
       "      <th>target</th>\n",
       "    </tr>\n",
       "  </thead>\n",
       "  <tbody>\n",
       "    <tr>\n",
       "      <th>0</th>\n",
       "      <td>10.38</td>\n",
       "      <td>1001.0</td>\n",
       "      <td>0.11840</td>\n",
       "      <td>0.27760</td>\n",
       "      <td>0.3001</td>\n",
       "      <td>0.14710</td>\n",
       "      <td>0.2419</td>\n",
       "      <td>0.07871</td>\n",
       "      <td>0.9053</td>\n",
       "      <td>0.006399</td>\n",
       "      <td>...</td>\n",
       "      <td>0.03003</td>\n",
       "      <td>0.006193</td>\n",
       "      <td>17.33</td>\n",
       "      <td>0.1622</td>\n",
       "      <td>0.6656</td>\n",
       "      <td>0.7119</td>\n",
       "      <td>0.2654</td>\n",
       "      <td>0.4601</td>\n",
       "      <td>0.11890</td>\n",
       "      <td>malignant</td>\n",
       "    </tr>\n",
       "    <tr>\n",
       "      <th>1</th>\n",
       "      <td>17.77</td>\n",
       "      <td>1326.0</td>\n",
       "      <td>0.08474</td>\n",
       "      <td>0.07864</td>\n",
       "      <td>0.0869</td>\n",
       "      <td>0.07017</td>\n",
       "      <td>0.1812</td>\n",
       "      <td>0.05667</td>\n",
       "      <td>0.7339</td>\n",
       "      <td>0.005225</td>\n",
       "      <td>...</td>\n",
       "      <td>0.01389</td>\n",
       "      <td>0.003532</td>\n",
       "      <td>23.41</td>\n",
       "      <td>0.1238</td>\n",
       "      <td>0.1866</td>\n",
       "      <td>0.2416</td>\n",
       "      <td>0.1860</td>\n",
       "      <td>0.2750</td>\n",
       "      <td>0.08902</td>\n",
       "      <td>malignant</td>\n",
       "    </tr>\n",
       "    <tr>\n",
       "      <th>2</th>\n",
       "      <td>21.25</td>\n",
       "      <td>1203.0</td>\n",
       "      <td>0.10960</td>\n",
       "      <td>0.15990</td>\n",
       "      <td>0.1974</td>\n",
       "      <td>0.12790</td>\n",
       "      <td>0.2069</td>\n",
       "      <td>0.05999</td>\n",
       "      <td>0.7869</td>\n",
       "      <td>0.006150</td>\n",
       "      <td>...</td>\n",
       "      <td>0.02250</td>\n",
       "      <td>0.004571</td>\n",
       "      <td>25.53</td>\n",
       "      <td>0.1444</td>\n",
       "      <td>0.4245</td>\n",
       "      <td>0.4504</td>\n",
       "      <td>0.2430</td>\n",
       "      <td>0.3613</td>\n",
       "      <td>0.08758</td>\n",
       "      <td>malignant</td>\n",
       "    </tr>\n",
       "    <tr>\n",
       "      <th>4</th>\n",
       "      <td>14.34</td>\n",
       "      <td>1297.0</td>\n",
       "      <td>0.10030</td>\n",
       "      <td>0.13280</td>\n",
       "      <td>0.1980</td>\n",
       "      <td>0.10430</td>\n",
       "      <td>0.1809</td>\n",
       "      <td>0.05883</td>\n",
       "      <td>0.7813</td>\n",
       "      <td>0.011490</td>\n",
       "      <td>...</td>\n",
       "      <td>0.01756</td>\n",
       "      <td>0.005115</td>\n",
       "      <td>16.67</td>\n",
       "      <td>0.1374</td>\n",
       "      <td>0.2050</td>\n",
       "      <td>0.4000</td>\n",
       "      <td>0.1625</td>\n",
       "      <td>0.2364</td>\n",
       "      <td>0.07678</td>\n",
       "      <td>malignant</td>\n",
       "    </tr>\n",
       "    <tr>\n",
       "      <th>5</th>\n",
       "      <td>15.70</td>\n",
       "      <td>477.1</td>\n",
       "      <td>0.12780</td>\n",
       "      <td>0.17000</td>\n",
       "      <td>0.1578</td>\n",
       "      <td>0.08089</td>\n",
       "      <td>0.2087</td>\n",
       "      <td>0.07613</td>\n",
       "      <td>0.8902</td>\n",
       "      <td>0.007510</td>\n",
       "      <td>...</td>\n",
       "      <td>0.02165</td>\n",
       "      <td>0.005082</td>\n",
       "      <td>23.75</td>\n",
       "      <td>0.1791</td>\n",
       "      <td>0.5249</td>\n",
       "      <td>0.5355</td>\n",
       "      <td>0.1741</td>\n",
       "      <td>0.3985</td>\n",
       "      <td>0.12440</td>\n",
       "      <td>malignant</td>\n",
       "    </tr>\n",
       "  </tbody>\n",
       "</table>\n",
       "<p>5 rows × 23 columns</p>\n",
       "</div>"
      ],
      "text/plain": [
       "   mean texture  mean area  mean smoothness  mean compactness  mean concavity  \\\n",
       "0         10.38     1001.0          0.11840           0.27760          0.3001   \n",
       "1         17.77     1326.0          0.08474           0.07864          0.0869   \n",
       "2         21.25     1203.0          0.10960           0.15990          0.1974   \n",
       "4         14.34     1297.0          0.10030           0.13280          0.1980   \n",
       "5         15.70      477.1          0.12780           0.17000          0.1578   \n",
       "\n",
       "   mean concave points  mean symmetry  mean fractal dimension  texture error  \\\n",
       "0              0.14710         0.2419                 0.07871         0.9053   \n",
       "1              0.07017         0.1812                 0.05667         0.7339   \n",
       "2              0.12790         0.2069                 0.05999         0.7869   \n",
       "4              0.10430         0.1809                 0.05883         0.7813   \n",
       "5              0.08089         0.2087                 0.07613         0.8902   \n",
       "\n",
       "   smoothness error  ...  symmetry error  fractal dimension error  \\\n",
       "0          0.006399  ...         0.03003                 0.006193   \n",
       "1          0.005225  ...         0.01389                 0.003532   \n",
       "2          0.006150  ...         0.02250                 0.004571   \n",
       "4          0.011490  ...         0.01756                 0.005115   \n",
       "5          0.007510  ...         0.02165                 0.005082   \n",
       "\n",
       "   worst texture  worst smoothness  worst compactness  worst concavity  \\\n",
       "0          17.33            0.1622             0.6656           0.7119   \n",
       "1          23.41            0.1238             0.1866           0.2416   \n",
       "2          25.53            0.1444             0.4245           0.4504   \n",
       "4          16.67            0.1374             0.2050           0.4000   \n",
       "5          23.75            0.1791             0.5249           0.5355   \n",
       "\n",
       "   worst concave points  worst symmetry  worst fractal dimension     target  \n",
       "0                0.2654          0.4601                  0.11890  malignant  \n",
       "1                0.1860          0.2750                  0.08902  malignant  \n",
       "2                0.2430          0.3613                  0.08758  malignant  \n",
       "4                0.1625          0.2364                  0.07678  malignant  \n",
       "5                0.1741          0.3985                  0.12440  malignant  \n",
       "\n",
       "[5 rows x 23 columns]"
      ]
     },
     "execution_count": 14,
     "metadata": {},
     "output_type": "execute_result"
    }
   ],
   "source": [
    "#load dataset, we will first load the data into a Pandas DataFrame object and display its content\n",
    "\n",
    "data = pd.read_csv('data/WBCD_preprocessed.csv', index_col=0)\n",
    "df_X = data.iloc[:,:-1] # Features matrix\n",
    "df_y = data.iloc[:,-1] # Target array\n",
    "data.head()"
   ]
  },
  {
   "cell_type": "code",
   "execution_count": 5,
   "metadata": {},
   "outputs": [
    {
     "data": {
      "text/plain": [
       "0    352\n",
       "1    205\n",
       "Name: target, dtype: int64"
      ]
     },
     "execution_count": 5,
     "metadata": {},
     "output_type": "execute_result"
    }
   ],
   "source": [
    "# Encode target labels with value 1 for malignant and 0 for benign\n",
    "dict_lb_to_num = {'malignant':1, 'benign':0} # set malignat as true class\n",
    "df_y = df_y.replace(dict_lb_to_num)\n",
    "df_y.value_counts()"
   ]
  },
  {
   "cell_type": "markdown",
   "metadata": {},
   "source": [
    "## Splitting Data\n",
    "**We would like to evaluate the model on data it has not seen before**, and so we will split the data into a training set and a testing set. \n",
    "1. *Training dataset*: Dataset used to fit the model (set the model parameters like weights).\n",
    "2. *Test dataset (holdout set)*: Dataset (hold-out) used to provide an unbiased evaluation of a final model fit on the training dataset. \n",
    "\n",
    "we hold back some subset of the data from the training of the model, and then use this holdout set to check the model performance. \n",
    "\n",
    "![](img/splitting_1.png)\n",
    "\n",
    "**We usually split the data around 70%-30% (or 80%-20%) between training and testing sets.**\n",
    "\n",
    "\n",
    "\n",
    "<img src='img/training_2.jpg' width='500px'>\n",
    "\n",
    "Some classification problems can present a large imbalance in the distribution of target classes. **It is important to have the same data distribution across test and training set.**\n",
    "In such cases it is recommended to use **stratified sampling** to ensure that relative class frequencies is approximately on both sets."
   ]
  },
  {
   "cell_type": "code",
   "execution_count": 12,
   "metadata": {},
   "outputs": [
    {
     "data": {
      "text/plain": [
       "0    0.631957\n",
       "1    0.368043\n",
       "Name: target, dtype: float64"
      ]
     },
     "execution_count": 12,
     "metadata": {},
     "output_type": "execute_result"
    },
    {
     "data": {
      "image/png": "[encoded data removed]",
      "text/plain": [
       "<Figure size 432x288 with 1 Axes>"
      ]
     },
     "metadata": {},
     "output_type": "display_data"
    }
   ],
   "source": [
    "df_y.value_counts()"
   ]
  },
  {
   "cell_type": "markdown",
   "metadata": {},
   "source": [
    "\n",
    "[*sklearn.model_selection.train_test_split(*arrays, test_size=None, train_size=None, random_state=None, shuffle=True, stratify=None)*](https://scikit-learn.org/stable/modules/generated/sklearn.model_selection.train_test_split.html):\n",
    "Split arrays or matrices into random train and test subsets"
   ]
  },
  {
   "cell_type": "code",
   "execution_count": 6,
   "metadata": {},
   "outputs": [
    {
     "name": "stdout",
     "output_type": "stream",
     "text": [
      "N. Training sample 389\n",
      "N. Testing sample 168\n"
     ]
    },
    {
     "data": {
      "image/png": "[encoded data removed]",
      "text/plain": [
       "<Figure size 720x360 with 2 Axes>"
      ]
     },
     "metadata": {},
     "output_type": "display_data"
    }
   ],
   "source": [
    "from sklearn.model_selection import train_test_split\n",
    "\n",
    "# data is splitted 70%-30% in a stratified method on the class labels. \n",
    "X_train, X_test, y_train, y_test = train_test_split(df_X, df_y, test_size =.3, stratify=df_y, random_state=1) \n",
    "\n",
    "print(f\"N. Training sample {len(X_train)}\")\n",
    "print(f\"N. Testing sample {len(X_test)}\")\n",
    "\n",
    "# plot target distributions of test and training set\n",
    "sns.set_theme(style=\"darkgrid\")\n",
    "fig = plt.figure(figsize = (10,5))\n",
    "plt.subplot(1, 2, 1)\n",
    "ax = sns.countplot(y_train.sort_values())   \n",
    "ax.set_title(\"Training Set\")\n",
    "plt.subplot(1, 2, 2)\n",
    "ax = sns.countplot(y_test.sort_values()) \n",
    "ax.set_title(\"Test Set\")\n",
    "plt.show()\n"
   ]
  },
  {
   "cell_type": "markdown",
   "metadata": {},
   "source": [
    "### Scaling\n",
    "we use the StandardScaler:\n",
    "* *StandardScaler.fit_transform()* on train set to learn the parameters of scaling on the train data and scale data.\n",
    "* *StandardScaler.transform()* on test set to scale data based on the  scaling paramaters learned on the train data \n",
    "\n",
    "**Our models do not have to rely on parameters learned from the test set**\n",
    "\n",
    "Including the test dataset in the transform computation will allow information to flow from the test data to the train data and therefore to the model that learns from it, thus allowing the model to cheat (introducing a bias)."
   ]
  },
  {
   "cell_type": "code",
   "execution_count": 7,
   "metadata": {},
   "outputs": [],
   "source": [
    "from sklearn.preprocessing import StandardScaler #for Scaling the features\n",
    "\n",
    "sc = StandardScaler()\n",
    "X_train = sc.fit_transform(X_train) # computes variance and mean of each feature and scaling. \n",
    "X_test  = sc.transform(X_test)  # scales the test data."
   ]
  },
  {
   "cell_type": "markdown",
   "metadata": {},
   "source": [
    "## Decision Tree\n",
    "The basic recipe for applying a supervised machine learning model:\n",
    "1. Choose a class of model\n",
    "\n",
    " ~~2. Choose best model hyperparameters ~~(we will see later)\n",
    "3. Fit the model to the training data\n",
    "4. Use the model to predict labels for new data\n",
    "\n",
    "[Sklearn contains several supervised machine learning models](https://scikit-learn.org/stable/supervised_learning.html).\n",
    "We use a Decision Tree Classifier which predicts the value of a target variable by learning simple decision rules (if-then-else) inferred from the data features"
   ]
  },
  {
   "cell_type": "code",
   "execution_count": 306,
   "metadata": {},
   "outputs": [
    {
     "data": {
      "text/plain": [
       "array([0, 0, 1, 1, 0, 0, 1, 1, 0, 0], dtype=int64)"
      ]
     },
     "execution_count": 306,
     "metadata": {},
     "output_type": "execute_result"
    }
   ],
   "source": [
    "from sklearn.tree import DecisionTreeClassifier\n",
    "# 1. instantiate model\n",
    "model = DecisionTreeClassifier(random_state=42) \n",
    "# 2. fit model to data (training)\n",
    "model.fit(X_train, y_train)   \n",
    "# 3. predict on new data \n",
    "y_pred = model.predict(X_test)             \n",
    "y_pred[:10]"
   ]
  },
  {
   "cell_type": "markdown",
   "metadata": {},
   "source": [
    "## Metrics of classification performance evaluation\n",
    "Let's draw the decision boundary of Decision Tree Classifier trained on the training set"
   ]
  },
  {
   "cell_type": "code",
   "execution_count": 307,
   "metadata": {},
   "outputs": [
    {
     "data": {
      "image/png": "[encoded data removed]",
      "text/plain": [
       "<Figure size 1008x432 with 1 Axes>"
      ]
     },
     "metadata": {},
     "output_type": "display_data"
    },
    {
     "data": {
      "image/png": "[encoded data removed]",
      "text/plain": [
       "<Figure size 1008x432 with 1 Axes>"
      ]
     },
     "metadata": {},
     "output_type": "display_data"
    }
   ],
   "source": [
    "from src.utils import draw_boundary\n",
    "# draw decision boundary for visualization (and teaching) purpose\n",
    "draw_boundary(DecisionTreeClassifier(random_state = 42),  X_train, X_test, y_train, y_test)"
   ]
  },
  {
   "cell_type": "markdown",
   "metadata": {},
   "source": [
    "Figure above shows what happened when we added new data to the model (Testing set). It turned out that the model did not fit well with the new data. Notice that the model misclassified some of the new data.\n",
    "\n",
    "\n",
    "We can use the following metrics:\n",
    "- *True Positive (TP)*  : Malignant cancer correctly identified as Malignant\n",
    "- *True Negative (TN)*  : Benign cancer correctly identified as Benign\n",
    "- *False Positive (FP)* : Benign cancer incorrectly identified as  Malignant\n",
    "- *False Negative (FN)* : Malignant cancer incorrectly identified as Benign\n",
    "\n",
    "The four outcomes can be formulated in a 2×2 confusion matrix\n",
    "\n",
    "![](img/confusion_matrix.png)"
   ]
  },
  {
   "cell_type": "markdown",
   "metadata": {},
   "source": [
    "* *Accuracy (ACC)*: (TP + TN) / (TP + FP + FN + TN)\n",
    "* *Sensitivity (SEN)* or Recall of the positive class or true positive rate (TPR) or hit rate: SEN = TP / P = TP / (TP+FN)\n",
    "* *Specificity (SPC)* or recall of the negative class or true negative rate: SPC = TN / N = TN / (TN+FP)\n",
    "* *Precision* or positive predictive value (PPV): PPV = TP / (TP + FP)\n",
    "\n",
    "In addition, *F1 Score* (or F-score) which is the harmonic mean of the precision and recall is usefull to deal with imballaced datasets.\n",
    "* *F1 = 2 * (precision * recall) / (precision + recall)*\n",
    "\n",
    "**Note**: Intuitively, precision (on positive class) is the ability of the classifier not to label as positive a sample that is negative, and recall (on positive class) is the ability of the classifier to find all the positive samples (TPR).\n"
   ]
  },
  {
   "cell_type": "code",
   "execution_count": 216,
   "metadata": {},
   "outputs": [
    {
     "data": {
      "image/png": "[encoded data removed]",
      "text/plain": [
       "<Figure size 432x288 with 2 Axes>"
      ]
     },
     "metadata": {},
     "output_type": "display_data"
    }
   ],
   "source": [
    "from sklearn.metrics import plot_confusion_matrix, classification_report\n",
    "sns.set(style=\"white\")\n",
    "plot_confusion_matrix(model, X_test, y_test) \n",
    "plt.show()"
   ]
  },
  {
   "cell_type": "code",
   "execution_count": 217,
   "metadata": {},
   "outputs": [
    {
     "name": "stdout",
     "output_type": "stream",
     "text": [
      "==================== Training Set Results ====================\n",
      "              precision    recall  f1-score   support\n",
      "\n",
      "           0       1.00      1.00      1.00       246\n",
      "           1       1.00      1.00      1.00       143\n",
      "\n",
      "    accuracy                           1.00       389\n",
      "   macro avg       1.00      1.00      1.00       389\n",
      "weighted avg       1.00      1.00      1.00       389\n",
      "\n",
      "==================== Testing Set Results ====================\n",
      "              precision    recall  f1-score   support\n",
      "\n",
      "           0       0.92      0.97      0.94       106\n",
      "           1       0.95      0.85      0.90        62\n",
      "\n",
      "    accuracy                           0.93       168\n",
      "   macro avg       0.93      0.91      0.92       168\n",
      "weighted avg       0.93      0.93      0.93       168\n",
      "\n",
      "============================================================\n"
     ]
    }
   ],
   "source": [
    "# Building a text report showing the main classification metrics.\n",
    "print('='*20,'Training Set Results','='*20)\n",
    "print(classification_report(y_train, model.predict(X_train)))\n",
    "\n",
    "print('='*20,'Testing Set Results','='*20)\n",
    "report_testing_dtree = classification_report(y_test, y_pred)\n",
    "print(report_testing_dtree)\n",
    "print('='*60)"
   ]
  },
  {
   "cell_type": "markdown",
   "metadata": {},
   "source": [
    "[sklearn.metrics.classification_report](https://scikit-learn.org/stable/modules/generated/sklearn.metrics.classification_report.html) Text summary of the precision, recall, F1 score for each class. \n",
    "The support is the number of occurrences of each class in y_test.\n",
    "The reported averages include macro average (averaging the unweighted mean per label) and weighted average (averaging the support-weighted mean per label)\n",
    "\n"
   ]
  },
  {
   "cell_type": "markdown",
   "metadata": {},
   "source": [
    "**In our case, the value of Recall of positive class (SEN) is considered a primary value, as the goal is to identify all cases of really positive (malignant tumor) minimizing false negative (e.g. I predict benign tumor but the patient has a malignant tumor)**. The malignant '1' tumors have positive class and those benign '0' negative class.\n",
    "False positive (Malignant cancer incorrectly identified as Benign) can be identified by further investigation by doctors."
   ]
  },
  {
   "cell_type": "markdown",
   "metadata": {},
   "source": [
    "## Random Forest"
   ]
  },
  {
   "cell_type": "markdown",
   "metadata": {},
   "source": [
    "`The anecdote of the Wisdom of the crowd.` **At a 1906 country fair in Plymouth, 800 people participated in a contest to estimate the weight of an ox. Anybody won the contest, but the statistician Francis Galton observed that the median guess, 1207 pounds, was accurate within 1% of the true weight of 1198 pounds.**\n",
    "\n",
    "In ensemble learning theory, we combine several weak learners (or base models) models in order to create a strong learner (or ensemble model) that achieves better performances (generalize well from the training data).\n",
    "\n",
    "[Random forests or random decision forests](https://scikit-learn.org/stable/modules/ensemble.html#forest) are an ensemble learning method for classification (or regression) that operate **by constructing a multitude of random decision trees** (decision trees are created using a subset of the input feature) at training time and **outputting the class that is the mode of the classes** (classification) or mean prediction (regression) of the individual trees. \n",
    " \n",
    "![](img/Random_forest_diagram_complete.png)\n",
    "\n",
    "\n"
   ]
  },
  {
   "cell_type": "code",
   "execution_count": 218,
   "metadata": {},
   "outputs": [
    {
     "data": {
      "image/png": "[encoded data removed]",
      "text/plain": [
       "<Figure size 1008x432 with 1 Axes>"
      ]
     },
     "metadata": {},
     "output_type": "display_data"
    },
    {
     "data": {
      "image/png": "[encoded data removed]",
      "text/plain": [
       "<Figure size 1008x432 with 1 Axes>"
      ]
     },
     "metadata": {},
     "output_type": "display_data"
    },
    {
     "name": "stdout",
     "output_type": "stream",
     "text": [
      "==================== Testing DECISION TREE Results ====================\n",
      "              precision    recall  f1-score   support\n",
      "\n",
      "           0       0.92      0.97      0.94       106\n",
      "           1       0.95      0.85      0.90        62\n",
      "\n",
      "    accuracy                           0.93       168\n",
      "   macro avg       0.93      0.91      0.92       168\n",
      "weighted avg       0.93      0.93      0.93       168\n",
      "\n",
      "==================== Testing RANDOM FOREST Results ====================\n",
      "              precision    recall  f1-score   support\n",
      "\n",
      "           0       0.92      0.99      0.95       106\n",
      "           1       0.98      0.85      0.91        62\n",
      "\n",
      "    accuracy                           0.94       168\n",
      "   macro avg       0.95      0.92      0.93       168\n",
      "weighted avg       0.94      0.94      0.94       168\n",
      "\n",
      "============================================================\n"
     ]
    }
   ],
   "source": [
    "from sklearn.ensemble import RandomForestClassifier\n",
    "\n",
    "# 1. instantiate model Random Forest with 50 decision trees\n",
    "model = RandomForestClassifier(n_estimators=50,random_state=42) \n",
    "# 2. fit model to data\n",
    "model.fit(X_train, y_train)   \n",
    "# 3. predict on new data\n",
    "y_pred = model.predict(X_test)    \n",
    "\n",
    "# drawing decision boundary  \n",
    "draw_boundary(RandomForestClassifier(n_estimators=50,random_state=42) ,  X_train,X_test,y_train,y_test )\n",
    "\n",
    "# 4. Evaluation (Comparison with decision tree model)\n",
    "print('='*20,'Testing DECISION TREE Results','='*20)\n",
    "print(report_testing_dtree)\n",
    "\n",
    "print('='*20,'Testing RANDOM FOREST Results','='*20)\n",
    "print(classification_report(y_test, y_pred))\n",
    "print('='*60)"
   ]
  },
  {
   "cell_type": "markdown",
   "metadata": {},
   "source": [
    "**Note**: In Random Forest, multiple overfitting estimators can be combined to reduce the overfitting effect and find a better classification\n",
    "\n",
    "Since our model does not have huge data set, testing set is left with few observations to lead any real conclusion."
   ]
  },
  {
   "cell_type": "markdown",
   "metadata": {},
   "source": [
    "## Cross validation\n",
    "\n",
    "One disadvantage of using a holdout set for model validation is that we have lost a portion of our data to the model training. In the previous case, the 30% of the dataset does not contribute to the training of the model! This is not optimal, and can cause problems especially if the initial set of training data is small.\n",
    "One way to address this is to use [Cross-Validation](https://en.wikipedia.org/wiki/Cross-validation_(statistics)).\n",
    "\n",
    "**Cross-Validation scheme randomly divides the set of observations into 𝐾 groups, or folds, of approximately equal size and perform the analysis on one subset ( K-1 folds, called the training set), and validating the analysis on the other subset (1 fold, called the validation set or testing set)\n",
    "To reduce variability, in most methods multiple rounds of cross-validation are performed using different partitions, and the validation results are combined (e.g. averaged) over the rounds to give an estimate of the model's predictive performance.**\n",
    "\n",
    "Visually, it might look something like this:\n",
    "\n",
    "<img src='img/1280px-K-fold_cross_validation_EN.png' >\n",
    "\n",
    "\n",
    "It recommended to use cross-validation scheme to estimate the global predictive power of a learning algorithm. \n",
    "\n",
    "\n",
    "\n"
   ]
  },
  {
   "cell_type": "markdown",
   "metadata": {},
   "source": [
    "We will use [*StratifiedKFold()*](https://scikit-learn.org/stable/modules/generated/sklearn.model_selection.StratifiedKFold.html?highlight=stratifiedkfold#sklearn.model_selection.StratifiedKFold) which is a variation of k-fold which returns stratified folds. \n",
    "\n",
    "<img src='img/stratifiedKFold.png'>"
   ]
  },
  {
   "cell_type": "markdown",
   "metadata": {},
   "source": [
    "The [cross_validate](https://scikit-learn.org/stable/modules/generated/sklearn.model_selection.cross_validate.html) function:\n",
    "* allows specifying multiple metrics for evaluation.\n",
    "* returns a dict containing fit-times, score-times (and optionally training scores as well as fitted estimators) in addition to the test score."
   ]
  },
  {
   "cell_type": "code",
   "execution_count": 219,
   "metadata": {},
   "outputs": [],
   "source": [
    "from sklearn.model_selection import cross_validate\n",
    "\n",
    "def cv_scores(model, xvalues, yvalues ):\n",
    "    \"\"\"\n",
    "    Evaluate metric(s) by cross-validation \n",
    "    Return CV scores and scores of the model for each run of the cross validation.\n",
    "    \"\"\"\n",
    "\n",
    "    # for the complete metrics:  https://scikit-learn.org/stable/modules/model_evaluation.html\n",
    "    scoring=('recall','precision','accuracy', 'f1') # accuracy,recall, precision, f1 on positive class \n",
    "    # cross_validate uses Stratified 5 folds (80%-20% splitting data) https://scikit-learn.org/stable/modules/generated/sklearn.model_selection.cross_validate.html\n",
    "    cv_results = cross_validate(model, xvalues, yvalues, cv=5, return_train_score=True, scoring=scoring)\n",
    "    \n",
    "    # Folds scores\n",
    "    df_folds = pd.DataFrame(cv_results)    \n",
    "    # CV scores\n",
    "    df_cv_scores = df_folds[sorted(cv_results.keys())].mean()\n",
    "    df_cv_scores['model'] = type(model).__name__\n",
    "    \n",
    "    return  df_cv_scores, df_folds\n",
    "\n"
   ]
  },
  {
   "cell_type": "code",
   "execution_count": 324,
   "metadata": {},
   "outputs": [
    {
     "data": {
      "text/plain": [
       "fit_time                         0.005599\n",
       "score_time                       0.004202\n",
       "test_accuracy                    0.924630\n",
       "test_f1                          0.896649\n",
       "test_precision                   0.902213\n",
       "test_recall                      0.892683\n",
       "train_accuracy                   1.000000\n",
       "train_f1                         1.000000\n",
       "train_precision                  1.000000\n",
       "train_recall                     1.000000\n",
       "model              DecisionTreeClassifier\n",
       "dtype: object"
      ]
     },
     "execution_count": 324,
     "metadata": {},
     "output_type": "execute_result"
    }
   ],
   "source": [
    "X = df_X.values  # Features matrix\n",
    "y = df_y.values # target array\n",
    "estimator = DecisionTreeClassifier(random_state=42)\n",
    "df_dtree_cv, _ = cv_scores(estimator,X,y)\n",
    "df_dtree_cv"
   ]
  },
  {
   "cell_type": "markdown",
   "metadata": {},
   "source": [
    "Decision tree model is an over fit. There are big differences between training scores and testing scores."
   ]
  },
  {
   "cell_type": "code",
   "execution_count": 325,
   "metadata": {},
   "outputs": [
    {
     "data": {
      "text/plain": [
       "fit_time                         0.127398\n",
       "score_time                       0.012199\n",
       "test_accuracy                    0.953346\n",
       "test_f1                          0.934836\n",
       "test_precision                   0.961639\n",
       "test_recall                      0.912195\n",
       "train_accuracy                   1.000000\n",
       "train_f1                         1.000000\n",
       "train_precision                  1.000000\n",
       "train_recall                     1.000000\n",
       "model              RandomForestClassifier\n",
       "dtype: object"
      ]
     },
     "execution_count": 325,
     "metadata": {},
     "output_type": "execute_result"
    }
   ],
   "source": [
    "estimator = RandomForestClassifier(n_estimators=50,random_state=42)\n",
    "df_rf_cv, _  = cv_scores(estimator,X,y)\n",
    "df_rf_cv"
   ]
  },
  {
   "cell_type": "markdown",
   "metadata": {},
   "source": [
    "Random Forest Classifier mitigates the overfitting problem reducing the difference between training and testing scores."
   ]
  },
  {
   "cell_type": "code",
   "execution_count": 222,
   "metadata": {},
   "outputs": [
    {
     "data": {
      "text/html": [
       "<style  type=\"text/css\" >\n",
       "#T_2c2c4_row0_col1,#T_2c2c4_row0_col2,#T_2c2c4_row0_col3,#T_2c2c4_row0_col4{\n",
       "            background-color:  #f7fbff;\n",
       "            color:  #000000;\n",
       "        }#T_2c2c4_row1_col1,#T_2c2c4_row1_col2,#T_2c2c4_row1_col3,#T_2c2c4_row1_col4{\n",
       "            background-color:  #08306b;\n",
       "            color:  #f1f1f1;\n",
       "        }</style><table id=\"T_2c2c4_\" ><thead>    <tr>        <th class=\"blank level0\" ></th>        <th class=\"col_heading level0 col0\" >model</th>        <th class=\"col_heading level0 col1\" >test_accuracy</th>        <th class=\"col_heading level0 col2\" >test_f1</th>        <th class=\"col_heading level0 col3\" >test_precision</th>        <th class=\"col_heading level0 col4\" >test_recall</th>    </tr></thead><tbody>\n",
       "                <tr>\n",
       "                        <th id=\"T_2c2c4_level0_row0\" class=\"row_heading level0 row0\" >0</th>\n",
       "                        <td id=\"T_2c2c4_row0_col0\" class=\"data row0 col0\" >DecisionTreeClassifier</td>\n",
       "                        <td id=\"T_2c2c4_row0_col1\" class=\"data row0 col1\" >0.924630</td>\n",
       "                        <td id=\"T_2c2c4_row0_col2\" class=\"data row0 col2\" >0.896649</td>\n",
       "                        <td id=\"T_2c2c4_row0_col3\" class=\"data row0 col3\" >0.902213</td>\n",
       "                        <td id=\"T_2c2c4_row0_col4\" class=\"data row0 col4\" >0.892683</td>\n",
       "            </tr>\n",
       "            <tr>\n",
       "                        <th id=\"T_2c2c4_level0_row1\" class=\"row_heading level0 row1\" >1</th>\n",
       "                        <td id=\"T_2c2c4_row1_col0\" class=\"data row1 col0\" >RandomForestClassifier</td>\n",
       "                        <td id=\"T_2c2c4_row1_col1\" class=\"data row1 col1\" >0.953346</td>\n",
       "                        <td id=\"T_2c2c4_row1_col2\" class=\"data row1 col2\" >0.934836</td>\n",
       "                        <td id=\"T_2c2c4_row1_col3\" class=\"data row1 col3\" >0.961639</td>\n",
       "                        <td id=\"T_2c2c4_row1_col4\" class=\"data row1 col4\" >0.912195</td>\n",
       "            </tr>\n",
       "    </tbody></table>"
      ],
      "text/plain": [
       "<pandas.io.formats.style.Styler at 0x2b598a00a08>"
      ]
     },
     "execution_count": 222,
     "metadata": {},
     "output_type": "execute_result"
    }
   ],
   "source": [
    "# Test scores comparison\n",
    "df_cv_scores = pd.DataFrame([df_dtree_cv,df_rf_cv])\n",
    "df_cv_scores[['model','test_accuracy','test_f1','test_precision','test_recall']].style.background_gradient(cmap='Blues')"
   ]
  },
  {
   "cell_type": "markdown",
   "metadata": {},
   "source": [
    "# Model Tuning \n"
   ]
  },
  {
   "cell_type": "markdown",
   "metadata": {},
   "source": [
    "Overfitting is caused by making a model more complex than necessary.\n",
    "\n",
    "![](img/overfitting.jpg)\n",
    "\n",
    "The Model's ability to generalize to new data is based on factors such as:\n",
    "- the complexity of the model\n",
    "- the model's performance on training data respect on test set\n",
    "\n",
    "We must find the trade-off between fitting our data well, but also fitting the data as simply as possible. \n",
    "\n",
    "![](img/validation.png)\n",
    "\n",
    " \n",
    "<!-- In first article of Stephanie and Tony on R2D3, we created a model that distinguishes homes in San Francisco from those in New York. In the [second article](http://www.r2d3.us/visual-intro-to-machine-learning-part-2/), they will talk about tuning and the Bias-Variance tradeoff. -->"
   ]
  },
  {
   "cell_type": "markdown",
   "metadata": {},
   "source": [
    "In the previous section, we saw the basic recipe for applying a supervised machine learning model. Now we can complete the recipe by adding Hyperparameters tuning to deal with the overfitting problem:\n",
    "1. Choose a class of model\n",
    "2. **Choose best model hyperparameters**\n",
    "3. Fit the model to the training data\n",
    "4. Use the model to predict labels for new data\n",
    "\n",
    "In machine learning, a hyperparameter is a parameter whose value is used to control the learning process and complexity of the model. \n",
    "\n",
    "<!-- The choice of model and choice of hyperparameters are the most important part of using these tools and techniques effectively. -->\n",
    "In order to make an informed choice, we need a way to validate that our model and our hyperparameters are a good fit to the data.\n",
    "To do this, **we need to retain some subset of training data (validation set) to evaluate the performance of the model to changes in its hyperparameters.**\n",
    "\n",
    "<!-- ![](img/splitting_validation.png) -->\n",
    "<img src='img/splitting_validation.png' width='800px'>\n",
    "\n",
    "As we have seen before, one disadvantage of using a holdout set for model validation is that we have lost a portion of our data to the model training. This is not optimal, and can cause problems especially if the initial set of training data is small.  Thus, to overcome this, cross validation of 5 fold is performed to validate the result.\n",
    "\n",
    "<!-- ![](notebook/img/splitting_2.png) -->\n",
    "<img src='img/splitting_2.png' width='700px'>\n",
    "<!-- **Why do we need a validation set?**\n",
    "\n",
    "Learning the parameters of a prediction function and testing it on the same data is a methodological mistake: a model that would just repeat the labels of the samples that it has just seen would have a perfect score but would fail to predict anything useful on yet-unseen data. This situation is called overfitting. \n",
    "\n",
    "\n",
    " -->"
   ]
  },
  {
   "cell_type": "markdown",
   "metadata": {},
   "source": [
    "## Validation Curve"
   ]
  },
  {
   "cell_type": "markdown",
   "metadata": {},
   "source": [
    "**Decision-tree learners can create over-complex trees that do not generalise the data well**. This is called overfitting. \n",
    "\n",
    "Mechanisms such as pruning, **setting the minimum number of samples required at a leaf node or setting the maximum depth of the tree are necessary to avoid this problem.**\n",
    "[Pruning](https://en.wikipedia.org/wiki/Decision_tree_pruning) reduces the complexity of the final classifier, and hence improves predictive accuracy by the reduction of overfitting.\n",
    "\n",
    "<!-- --Bias is the difference between the Predicted Value and the Expected Value\n",
    "--The Variance is when the model takes into account the fluctuations in the data i.e. the noise as well. -->"
   ]
  },
  {
   "cell_type": "markdown",
   "metadata": {},
   "source": [
    "We can use the [*min_samples_leaf*](https://scikit-learn.org/stable/modules/generated/sklearn.tree.DecisionTreeClassifier.html) tunable parameter to tune the decision tree model complexity and [sklearn.model_selection.validation_curve](https://scikit-learn.org/stable/modules/generated/sklearn.model_selection.validation_curve.html#sklearn.model_selection.validation_curve) to plot the influence of a single hyperparameter on the training score and the validation score in order to find out whether the estimator is overfitting or underfitting for some hyperparameter values.\n",
    "\n"
   ]
  },
  {
   "cell_type": "code",
   "execution_count": 326,
   "metadata": {},
   "outputs": [
    {
     "data": {
      "image/png": "[encoded data removed]",
      "text/plain": [
       "<Figure size 576x360 with 1 Axes>"
      ]
     },
     "metadata": {},
     "output_type": "display_data"
    }
   ],
   "source": [
    "from src.utils import validation_curve_model\n",
    "dtree =  DecisionTreeClassifier(random_state = 42)\n",
    "\n",
    "param_range = range(1,34,4) \n",
    "param_name=\"min_samples_leaf\"\n",
    "ylim=[0.50, 1.01]\n",
    "\n",
    "\n",
    "sns.set(style=\"white\")\n",
    "validation_curve_model(X_train,y_train, dtree, param_name, param_range, cv=5, ylim=ylim )\n",
    "\n",
    "plt.show()"
   ]
  },
  {
   "cell_type": "markdown",
   "metadata": {},
   "source": [
    "The chart above  is validation curve, and we see the following essential features:\n",
    "* The training score is everywhere higher than the validation score. This is generally the case: the model will be a better fit to data it has seen than to data it has not seen.\n",
    "* **For very high model complexity (a high-variance model, min_samples_leaf value from 1 to 13), the training data is overfit**, which means that the model predicts the training data very well, but fails for any previously unseen data.\n",
    "* **For very low model complexity (a high-bias model, min_samples_leaf value after 20), the training data is underfit**, which means that the model is a poor predictor both for the training data and for any previously unseen data.\n",
    "* For some intermediate value, **the validation curve has a maximum. This level of complexity indicates a suitable trade-off between bias and variance is 17**"
   ]
  },
  {
   "cell_type": "markdown",
   "metadata": {},
   "source": [
    "## Grid Search\n",
    " In practice, models generally have more than one knob to turn, and thus plots of\n",
    "validation  curves change from lines to multidimensional surfaces. \n",
    "\n",
    "Grid Search tries all the possible combinations of parameter values (knobs to turn) which are evaluated using CV and the best combination is retained.\n",
    "\n",
    "\n",
    "<img src='img/grid_search.png' width='400' />"
   ]
  },
  {
   "cell_type": "code",
   "execution_count": 317,
   "metadata": {},
   "outputs": [
    {
     "name": "stdout",
     "output_type": "stream",
     "text": [
      "{'min_samples_leaf': [1, 3, 5, 7, 9, 11, 13, 15, 17, 19, 21, 23, 25, 27, 29], 'min_samples_split': [2, 3, 4, 5, 6, 7], 'max_depth': [1, 3, 5, 7, 9, 11, 13, 15, 17, 19]}\n"
     ]
    }
   ],
   "source": [
    "\n",
    "print({\"min_samples_leaf\": list(range(1,30,2)), # len = 15\n",
    "        \"min_samples_split\":list(range(2,8,1)), # len = 6\n",
    "        \"max_depth\": list(range(1,20,2)) # len = 10\n",
    "       })\n",
    "# all possibile combinations = 15 * 10 * 6 = 900 "
   ]
  },
  {
   "cell_type": "markdown",
   "metadata": {},
   "source": [
    "[*sklearn.model_selection.GridSearchCV*](https://scikit-learn.org/stable/modules/generated/sklearn.model_selection.GridSearchCV.html): Exhaustive search over specified parameter values for an estimator."
   ]
  },
  {
   "cell_type": "code",
   "execution_count": 327,
   "metadata": {},
   "outputs": [
    {
     "name": "stdout",
     "output_type": "stream",
     "text": [
      "Fitting 5 folds for each of 900 candidates, totalling 4500 fits\n"
     ]
    },
    {
     "data": {
      "text/plain": [
       "GridSearchCV(estimator=DecisionTreeClassifier(random_state=42), n_jobs=4,\n",
       "             param_grid={'max_depth': range(1, 20, 2),\n",
       "                         'min_samples_leaf': range(1, 30, 2),\n",
       "                         'min_samples_split': range(2, 8)},\n",
       "             scoring='recall', verbose=2)"
      ]
     },
     "execution_count": 327,
     "metadata": {},
     "output_type": "execute_result"
    }
   ],
   "source": [
    "dtree =  DecisionTreeClassifier(random_state = 42)\n",
    "\n",
    "parameters_grid={\"min_samples_leaf\": range(1,30,2),\n",
    "                 \"min_samples_split\":range(2,8,1),\n",
    "                 \"max_depth\": range(1,20,2)\n",
    "               }\n",
    " \n",
    "from sklearn.model_selection import GridSearchCV\n",
    "#(Stratified)5Fold,\n",
    "clf = GridSearchCV(dtree, parameters_grid,scoring='recall',n_jobs=4,verbose=2)\n",
    "clf.fit(X_train,y_train)"
   ]
  },
  {
   "cell_type": "code",
   "execution_count": 226,
   "metadata": {},
   "outputs": [
    {
     "name": "stdout",
     "output_type": "stream",
     "text": [
      "Recall score  0.9369458128078817  with  {'max_depth': 3, 'min_samples_leaf': 17, 'min_samples_split': 2}\n"
     ]
    }
   ],
   "source": [
    "print('Recall score ', clf.best_score_, ' with ', clf.best_params_)\n"
   ]
  },
  {
   "cell_type": "code",
   "execution_count": 337,
   "metadata": {},
   "outputs": [
    {
     "data": {
      "text/plain": [
       "fit_time                          0.003600\n",
       "score_time                        0.002600\n",
       "test_accuracy                     0.928282\n",
       "test_f1                           0.903824\n",
       "test_precision                    0.896725\n",
       "test_recall                       0.912195\n",
       "train_accuracy                    0.944795\n",
       "train_f1                          0.925292\n",
       "train_precision                   0.921372\n",
       "train_recall                      0.930488\n",
       "model              Fine-Tuned DecisionTree\n",
       "dtype: object"
      ]
     },
     "execution_count": 337,
     "metadata": {},
     "output_type": "execute_result"
    }
   ],
   "source": [
    "# Evalution using CV (or Test Set)\n",
    "estimator = DecisionTreeClassifier(random_state=42, max_depth=3, min_samples_leaf=17, min_samples_split=3)\n",
    "df_tuned_dtree_cv, _ = cv_scores(estimator,X,y)\n",
    "df_tuned_dtree_cv['model'] = 'Fine-Tuned DecisionTree'\n",
    "df_tuned_dtree_cv\n",
    "\n",
    "# # Evalution on Test Set\n",
    "# estimator.fit(X_train, y_train)    \n",
    "# print('='*20,'Testing Fine-Tuned DecisionTree Results','='*20)\n",
    "# print(classification_report(y_test, estimator.predict(X_test) ))"
   ]
  },
  {
   "cell_type": "markdown",
   "metadata": {},
   "source": [
    "### Random Forest\n"
   ]
  },
  {
   "cell_type": "code",
   "execution_count": 228,
   "metadata": {},
   "outputs": [
    {
     "name": "stdout",
     "output_type": "stream",
     "text": [
      "Fitting 5 folds for each of 500 candidates, totalling 2500 fits\n"
     ]
    },
    {
     "data": {
      "text/plain": [
       "GridSearchCV(estimator=RandomForestClassifier(random_state=42), n_jobs=4,\n",
       "             param_grid={'max_depth': range(1, 10, 2),\n",
       "                         'min_samples_leaf': range(1, 10, 2),\n",
       "                         'min_samples_split': range(2, 6),\n",
       "                         'n_estimators': range(20, 101, 20)},\n",
       "             scoring='recall', verbose=2)"
      ]
     },
     "execution_count": 228,
     "metadata": {},
     "output_type": "execute_result"
    }
   ],
   "source": [
    "rf =  RandomForestClassifier(random_state = 42)\n",
    "\n",
    "parameters_grid={\"min_samples_leaf\": range(1,10,2),\n",
    "                 \"min_samples_split\":range(2,6,1),\n",
    "                 \"max_depth\": range(1,10,2),\n",
    "                 \"n_estimators\": range(20,101,20)\n",
    "               }\n",
    " \n",
    "from sklearn.model_selection import GridSearchCV\n",
    "clf = GridSearchCV(rf, parameters_grid,scoring='recall',n_jobs=4,verbose=2)\n",
    "clf.fit(X_train,y_train)"
   ]
  },
  {
   "cell_type": "code",
   "execution_count": 229,
   "metadata": {},
   "outputs": [
    {
     "name": "stdout",
     "output_type": "stream",
     "text": [
      "Recall score  0.9440886699507389  with  {'max_depth': 7, 'min_samples_leaf': 1, 'min_samples_split': 4, 'n_estimators': 20}\n"
     ]
    }
   ],
   "source": [
    "print('Recall score ', clf.best_score_, ' with ', clf.best_params_)"
   ]
  },
  {
   "cell_type": "code",
   "execution_count": 335,
   "metadata": {},
   "outputs": [
    {
     "data": {
      "text/plain": [
       "fit_time                          0.073001\n",
       "score_time                        0.009197\n",
       "test_accuracy                     0.953362\n",
       "test_f1                           0.936116\n",
       "test_precision                    0.948123\n",
       "test_recall                       0.926829\n",
       "train_accuracy                    0.995514\n",
       "train_f1                          0.993872\n",
       "train_precision                   0.996326\n",
       "train_recall                      0.991463\n",
       "model              Fine-Tuned RandomForest\n",
       "dtype: object"
      ]
     },
     "execution_count": 335,
     "metadata": {},
     "output_type": "execute_result"
    }
   ],
   "source": [
    "model = RandomForestClassifier(random_state=42, max_depth=7, min_samples_leaf=1, min_samples_split=3,n_estimators=20) \n",
    "df_tuned_rf_cv, _ = cv_scores(model,X,y)\n",
    "df_tuned_rf_cv['model'] = 'Fine-Tuned RandomForest'\n",
    "df_tuned_rf_cv\n",
    "\n",
    "\n",
    "# # Evalution on Test Set\n",
    "# model.fit(X_train, y_train)    \n",
    "# print('='*20,'Testing Fine-Tuned RandomForest Results','='*20)\n",
    "# print(classification_report(y_test, model.predict(X_test) ))"
   ]
  },
  {
   "cell_type": "code",
   "execution_count": 231,
   "metadata": {},
   "outputs": [
    {
     "data": {
      "text/html": [
       "<style  type=\"text/css\" >\n",
       "#T_c1462_row0_col1,#T_c1462_row0_col2,#T_c1462_row0_col4,#T_c1462_row2_col1,#T_c1462_row2_col3{\n",
       "            background-color:  #08306b;\n",
       "            color:  #f1f1f1;\n",
       "        }#T_c1462_row0_col3{\n",
       "            background-color:  #1966ad;\n",
       "            color:  #f1f1f1;\n",
       "        }#T_c1462_row1_col1{\n",
       "            background-color:  #deebf7;\n",
       "            color:  #000000;\n",
       "        }#T_c1462_row1_col2{\n",
       "            background-color:  #d3e4f3;\n",
       "            color:  #000000;\n",
       "        }#T_c1462_row1_col3,#T_c1462_row3_col1,#T_c1462_row3_col2,#T_c1462_row3_col4{\n",
       "            background-color:  #f7fbff;\n",
       "            color:  #000000;\n",
       "        }#T_c1462_row1_col4,#T_c1462_row2_col4{\n",
       "            background-color:  #539ecd;\n",
       "            color:  #000000;\n",
       "        }#T_c1462_row2_col2{\n",
       "            background-color:  #083877;\n",
       "            color:  #f1f1f1;\n",
       "        }#T_c1462_row3_col3{\n",
       "            background-color:  #e7f0fa;\n",
       "            color:  #000000;\n",
       "        }</style><table id=\"T_c1462_\" ><thead>    <tr>        <th class=\"blank level0\" ></th>        <th class=\"col_heading level0 col0\" >model</th>        <th class=\"col_heading level0 col1\" >test_accuracy</th>        <th class=\"col_heading level0 col2\" >test_f1</th>        <th class=\"col_heading level0 col3\" >test_precision</th>        <th class=\"col_heading level0 col4\" >test_recall</th>    </tr></thead><tbody>\n",
       "                <tr>\n",
       "                        <th id=\"T_c1462_level0_row0\" class=\"row_heading level0 row0\" >3</th>\n",
       "                        <td id=\"T_c1462_row0_col0\" class=\"data row0 col0\" >Fine-Tuned RandomForest</td>\n",
       "                        <td id=\"T_c1462_row0_col1\" class=\"data row0 col1\" >0.953362</td>\n",
       "                        <td id=\"T_c1462_row0_col2\" class=\"data row0 col2\" >0.936116</td>\n",
       "                        <td id=\"T_c1462_row0_col3\" class=\"data row0 col3\" >0.948123</td>\n",
       "                        <td id=\"T_c1462_row0_col4\" class=\"data row0 col4\" >0.926829</td>\n",
       "            </tr>\n",
       "            <tr>\n",
       "                        <th id=\"T_c1462_level0_row1\" class=\"row_heading level0 row1\" >1</th>\n",
       "                        <td id=\"T_c1462_row1_col0\" class=\"data row1 col0\" >Fine-Tuned DecisionTree</td>\n",
       "                        <td id=\"T_c1462_row1_col1\" class=\"data row1 col1\" >0.928282</td>\n",
       "                        <td id=\"T_c1462_row1_col2\" class=\"data row1 col2\" >0.903824</td>\n",
       "                        <td id=\"T_c1462_row1_col3\" class=\"data row1 col3\" >0.896725</td>\n",
       "                        <td id=\"T_c1462_row1_col4\" class=\"data row1 col4\" >0.912195</td>\n",
       "            </tr>\n",
       "            <tr>\n",
       "                        <th id=\"T_c1462_level0_row2\" class=\"row_heading level0 row2\" >2</th>\n",
       "                        <td id=\"T_c1462_row2_col0\" class=\"data row2 col0\" >RandomForestClassifier</td>\n",
       "                        <td id=\"T_c1462_row2_col1\" class=\"data row2 col1\" >0.953346</td>\n",
       "                        <td id=\"T_c1462_row2_col2\" class=\"data row2 col2\" >0.934836</td>\n",
       "                        <td id=\"T_c1462_row2_col3\" class=\"data row2 col3\" >0.961639</td>\n",
       "                        <td id=\"T_c1462_row2_col4\" class=\"data row2 col4\" >0.912195</td>\n",
       "            </tr>\n",
       "            <tr>\n",
       "                        <th id=\"T_c1462_level0_row3\" class=\"row_heading level0 row3\" >0</th>\n",
       "                        <td id=\"T_c1462_row3_col0\" class=\"data row3 col0\" >DecisionTreeClassifier</td>\n",
       "                        <td id=\"T_c1462_row3_col1\" class=\"data row3 col1\" >0.924630</td>\n",
       "                        <td id=\"T_c1462_row3_col2\" class=\"data row3 col2\" >0.896649</td>\n",
       "                        <td id=\"T_c1462_row3_col3\" class=\"data row3 col3\" >0.902213</td>\n",
       "                        <td id=\"T_c1462_row3_col4\" class=\"data row3 col4\" >0.892683</td>\n",
       "            </tr>\n",
       "    </tbody></table>"
      ],
      "text/plain": [
       "<pandas.io.formats.style.Styler at 0x2b5996b9588>"
      ]
     },
     "execution_count": 231,
     "metadata": {},
     "output_type": "execute_result"
    }
   ],
   "source": [
    "df_cv_scores = pd.DataFrame([df_dtree_cv,df_tuned_dtree_cv, df_rf_cv,df_tuned_rf_cv]).sort_values('test_recall', ascending=False)\n",
    "df_cv_scores[['model','test_accuracy','test_f1','test_precision','test_recall',]].style.background_gradient(cmap='Blues')"
   ]
  },
  {
   "cell_type": "markdown",
   "metadata": {},
   "source": [
    "Fine-Tuned RandomForest models has 92.7% recall"
   ]
  },
  {
   "cell_type": "markdown",
   "metadata": {},
   "source": [
    "Below is a flowchart of typical workflow in model training. The best parameters can be determined by grid search techniques.\n",
    "\n",
    "<img src='img/grid_search_workflow.png' width='400' />"
   ]
  },
  {
   "cell_type": "markdown",
   "metadata": {},
   "source": [
    "# APPENDIX\n",
    "\n",
    "\n"
   ]
  },
  {
   "cell_type": "markdown",
   "metadata": {},
   "source": [
    "## Model Tuning"
   ]
  },
  {
   "cell_type": "code",
   "execution_count": 18,
   "metadata": {},
   "outputs": [
    {
     "data": {
      "text/html": [
       "\n",
       "        <iframe\n",
       "            width=\"1200\"\n",
       "            height=\"650\"\n",
       "            src=\"http://www.r2d3.us/visual-intro-to-machine-learning-part-2/\"\n",
       "            frameborder=\"0\"\n",
       "            allowfullscreen\n",
       "        ></iframe>\n",
       "        "
      ],
      "text/plain": [
       "<IPython.lib.display.IFrame at 0x17f24befc48>"
      ]
     },
     "execution_count": 18,
     "metadata": {},
     "output_type": "execute_result"
    }
   ],
   "source": [
    "from IPython.display import display, HTML,IFrame \n",
    "IFrame(src=\"http://www.r2d3.us/visual-intro-to-machine-learning-part-2/\", width=1200, height=650)"
   ]
  },
  {
   "cell_type": "markdown",
   "metadata": {},
   "source": [
    "\n",
    "## Predictive Models\n",
    "\n",
    "### Logistic regression\n",
    "Logistic regression is called a generalized linear models. ie.: it is a linear model with a link\n",
    "function that maps the output of linear multiple regression to the posterior probability of class\n",
    "1 𝑝(1|𝑥) using the logistic sigmoid function: 𝑝(1|𝑤, 𝑥𝑖) = 1/1 + exp(−𝑤 · 𝑥𝑖)\n",
    "\n",
    "### K-Nearest Neighbor\n",
    "In k-NN classification, the output is a class membership. An object is classified by a majority vote of its neighbors, with the object being assigned to the class most common among its k nearest neighbors (k is a positive integer, typically small).\" [ wiki](https://en.wikipedia.org/wiki/K-nearest_neighbors_algorithm)\n",
    "\n",
    "### Support Vector - linear\n",
    "It simply finds a line or curve (in two dimensions) or manifold (in multiple dimensions) that divides the classes from each other. A linear discriminative classifier would attempt to draw a straight line separating the two sets of data, and thereby create a model for classification. [wiki](https://en.wikipedia.org/wiki/Support_vector_machine)\n",
    " \n",
    "### Naive Bayes\n",
    "It relies on Bayes's theorem. In Bayesian classification, we're interested in finding the probability of a label given some observed features, which we can write as $P(L~|~{\\rm features})$. \n",
    " Such a model is called a generative model because it specifies the hypothetical random process that generates the data. In Gaussian Naive Bayes classifier, the assumption is that data from each label is drawn from a simple Gaussian distribution. Gaussian distribution is used as prior probability distribution to compute the posterior probability  $P(L~|~{\\rm features})$\n",
    " \n",
    "### Gradient Boosting\n",
    "Gradient boosting is an ensemble algorithm that fits boosted decision trees by minimizing an error gradient.\n",
    "Decision trees can be added together (sequentially) to correct for errors in the predictions. The output of the other learning algorithms ('weak learners') is combined into a weighted sum that represents the final output of the boosted classifier.\n",
    "\n",
    "### Neural Network\n",
    "A MultiLayer Perceptron (MLP) is a class of feedforward artificial neural network. An MLP consists of at least three layers of nodes. Except for the input nodes, each node is a neuron that uses a nonlinear activation function. MLP utilizes a supervised learning technique called backpropagation for training. Its multiple layers and non-linear activation distinguish MLP from a linear perceptron. It can distinguish data that is not linearly separable."
   ]
  },
  {
   "cell_type": "code",
   "execution_count": 203,
   "metadata": {},
   "outputs": [],
   "source": [
    "from sklearn.naive_bayes import GaussianNB\n",
    "from sklearn.svm import SVC, LinearSVC\n",
    "from sklearn.neighbors import KNeighborsClassifier\n",
    "from sklearn.linear_model import LogisticRegression\n",
    "from sklearn import tree\n",
    "from sklearn.neural_network import MLPClassifier\n",
    "from sklearn.ensemble import GradientBoostingClassifier\n",
    "from sklearn.gaussian_process.kernels import RBF\n",
    "from sklearn.ensemble import RandomForestClassifier\n",
    "\n",
    "# define a dictory for classifier and their paramaters\n",
    "dict_classifiers = {\n",
    "    \"Logistic Regression\": \n",
    "            {'classifier': LogisticRegression(random_state=42),\n",
    "                'params' : [\n",
    "                            {\n",
    "                             'penalty': ['l1','l2'],\n",
    "                             'C': [0.001,0.01,0.1,1,10,100,1000],\n",
    "                                \n",
    "                            }\n",
    "                           ]\n",
    "            },\n",
    "    \"Nearest Neighbors\": \n",
    "            {'classifier': KNeighborsClassifier(),\n",
    "                 'params': [\n",
    "                            {\n",
    "                            'n_neighbors': [1, 3, 5, 10],\n",
    "                            'leaf_size': [3, 30]\n",
    "                            }\n",
    "                           ]\n",
    "            },\n",
    "             \n",
    "    \"Linear SVM\": \n",
    "            {'classifier': SVC(random_state=42),\n",
    "                 'params': [\n",
    "                            {\n",
    "                             'C': [1, 10, 100],\n",
    "                             'gamma': [0.001, 0.0001],\n",
    "                             'kernel': ['linear']\n",
    "                            }\n",
    "                           ]\n",
    "            },\n",
    "    \"Gradient Boosting\": \n",
    "            {'classifier': GradientBoostingClassifier(random_state=42),\n",
    "                 'params': [\n",
    "                            {\n",
    "                             'learning_rate': [0.05, 0.1],\n",
    "                             'n_estimators' :[50, 100, 200],\n",
    "                             'max_depth':[3,7]\n",
    "                            }\n",
    "                           ]\n",
    "            },\n",
    "    \"Decision Tree\":\n",
    "            {'classifier': DecisionTreeClassifier(random_state=42),\n",
    "                 'params': [\n",
    "                            {\n",
    "                             'min_samples_leaf':[17], \n",
    "                             'min_samples_split': [2],\n",
    "                             'max_depth':[3,7]\n",
    "                            }\n",
    "                             ]\n",
    "            },\n",
    "    \"Random Forest\": \n",
    "            {'classifier': RandomForestClassifier(random_state=42),\n",
    "                 'params': {\n",
    "                            'n_estimators' :[20,50],\n",
    "                            'max_depth':[3,7],\n",
    "                            'min_samples_leaf': [1], \n",
    "                            'min_samples_split': [3]\n",
    "                           }\n",
    "            },\n",
    "    \"Naive Bayes\": \n",
    "            {'classifier': GaussianNB(),\n",
    "                 'params': {}\n",
    "            },\n",
    "    \"Neural Network\":\n",
    "            {'classifier': MLPClassifier(random_state=42),\n",
    "                 'params': {\n",
    "                     'hidden_layer_sizes': [(100,),(50,50), (20,10,10,10)],\n",
    "                     'max_iter':[200,800]\n",
    "                 }\n",
    "            }\n",
    "    \n",
    "}"
   ]
  },
  {
   "cell_type": "code",
   "execution_count": 199,
   "metadata": {},
   "outputs": [],
   "source": [
    "import time\n",
    "from sklearn.model_selection import GridSearchCV \n",
    "from sklearn.metrics import accuracy_score\n",
    "\n",
    "def evalution_classifiers(dict_classifiers, X,y, verbose = True):\n",
    "    X_train, X_test, y_train, y_test = train_test_split(X, y, test_size =.3, stratify=y, random_state=1) \n",
    "    serie_scores = []\n",
    "    \n",
    "    for clf_name, classifier in dict_classifiers.items():\n",
    "        print(f\"= Training {clf_name} =\")\n",
    "        \n",
    "        # computing GridSearchCV for search the best parameters\n",
    "        grid = GridSearchCV(classifier['classifier'], \n",
    "                      classifier['params'],\n",
    "                      scoring='recall',n_jobs=4, refit=True) \n",
    "        grid.fit(X_train,y_train)\n",
    "        \n",
    "        # using the best model (with best parameters) for evalaution\n",
    "        serie_score, _ = cv_scores(grid.best_estimator_ ,X,y)\n",
    "        serie_score['model'] = clf_name\n",
    "        serie_score['best_params' ]= grid.best_params_\n",
    "        serie_scores.append(serie_score)\n",
    "\n",
    "        if verbose:\n",
    "            print(f\" - Best params {grid.best_params_},  5Fold Recall {serie_score.test_recall:.2f}\")\n",
    "\n",
    "    return pd.concat(serie_scores, axis=1).T"
   ]
  },
  {
   "cell_type": "code",
   "execution_count": 204,
   "metadata": {},
   "outputs": [
    {
     "name": "stdout",
     "output_type": "stream",
     "text": [
      "= Training Logistic Regression =\n",
      " - Best params {'C': 100, 'penalty': 'l2'},  5Fold Recall 0.92\n",
      "= Training Nearest Neighbors =\n",
      " - Best params {'leaf_size': 3, 'n_neighbors': 3},  5Fold Recall 0.85\n",
      "= Training Linear SVM =\n",
      " - Best params {'C': 100, 'gamma': 0.001, 'kernel': 'linear'},  5Fold Recall 0.95\n",
      "= Training Gradient Boosting =\n",
      " - Best params {'learning_rate': 0.05, 'max_depth': 3, 'n_estimators': 200},  5Fold Recall 0.94\n",
      "= Training Decision Tree =\n",
      " - Best params {'max_depth': 3, 'min_samples_leaf': 17, 'min_samples_split': 2},  5Fold Recall 0.91\n",
      "= Training Random Forest =\n",
      " - Best params {'max_depth': 7, 'min_samples_leaf': 1, 'min_samples_split': 3, 'n_estimators': 20},  5Fold Recall 0.93\n",
      "= Training Naive Bayes =\n",
      " - Best params {},  5Fold Recall 0.88\n",
      "= Training Neural Network =\n",
      " - Best params {'hidden_layer_sizes': (20, 10, 10, 10), 'max_iter': 800},  5Fold Recall 0.79\n"
     ]
    },
    {
     "data": {
      "text/html": [
       "<div>\n",
       "<style scoped>\n",
       "    .dataframe tbody tr th:only-of-type {\n",
       "        vertical-align: middle;\n",
       "    }\n",
       "\n",
       "    .dataframe tbody tr th {\n",
       "        vertical-align: top;\n",
       "    }\n",
       "\n",
       "    .dataframe thead th {\n",
       "        text-align: right;\n",
       "    }\n",
       "</style>\n",
       "<table border=\"1\" class=\"dataframe\">\n",
       "  <thead>\n",
       "    <tr style=\"text-align: right;\">\n",
       "      <th></th>\n",
       "      <th>model</th>\n",
       "      <th>best_params</th>\n",
       "      <th>test_accuracy</th>\n",
       "      <th>test_f1</th>\n",
       "      <th>test_precision</th>\n",
       "      <th>test_recall</th>\n",
       "    </tr>\n",
       "  </thead>\n",
       "  <tbody>\n",
       "    <tr>\n",
       "      <th>2</th>\n",
       "      <td>Linear SVM</td>\n",
       "      <td>{'C': 100, 'gamma': 0.001, 'kernel': 'linear'}</td>\n",
       "      <td>0.964157</td>\n",
       "      <td>0.951147</td>\n",
       "      <td>0.951644</td>\n",
       "      <td>0.951220</td>\n",
       "    </tr>\n",
       "    <tr>\n",
       "      <th>3</th>\n",
       "      <td>Gradient Boosting</td>\n",
       "      <td>{'learning_rate': 0.05, 'max_depth': 3, 'n_est...</td>\n",
       "      <td>0.967728</td>\n",
       "      <td>0.955209</td>\n",
       "      <td>0.970830</td>\n",
       "      <td>0.941463</td>\n",
       "    </tr>\n",
       "    <tr>\n",
       "      <th>5</th>\n",
       "      <td>Random Forest</td>\n",
       "      <td>{'max_depth': 7, 'min_samples_leaf': 1, 'min_s...</td>\n",
       "      <td>0.953362</td>\n",
       "      <td>0.936116</td>\n",
       "      <td>0.948123</td>\n",
       "      <td>0.926829</td>\n",
       "    </tr>\n",
       "    <tr>\n",
       "      <th>0</th>\n",
       "      <td>Logistic Regression</td>\n",
       "      <td>{'C': 100, 'penalty': 'l2'}</td>\n",
       "      <td>0.953411</td>\n",
       "      <td>0.934012</td>\n",
       "      <td>0.954878</td>\n",
       "      <td>0.917073</td>\n",
       "    </tr>\n",
       "    <tr>\n",
       "      <th>4</th>\n",
       "      <td>Decision Tree</td>\n",
       "      <td>{'max_depth': 3, 'min_samples_leaf': 17, 'min_...</td>\n",
       "      <td>0.928282</td>\n",
       "      <td>0.903824</td>\n",
       "      <td>0.896725</td>\n",
       "      <td>0.912195</td>\n",
       "    </tr>\n",
       "    <tr>\n",
       "      <th>6</th>\n",
       "      <td>Naive Bayes</td>\n",
       "      <td>{}</td>\n",
       "      <td>0.917439</td>\n",
       "      <td>0.886769</td>\n",
       "      <td>0.897756</td>\n",
       "      <td>0.878049</td>\n",
       "    </tr>\n",
       "    <tr>\n",
       "      <th>1</th>\n",
       "      <td>Nearest Neighbors</td>\n",
       "      <td>{'leaf_size': 3, 'n_neighbors': 3}</td>\n",
       "      <td>0.895914</td>\n",
       "      <td>0.857219</td>\n",
       "      <td>0.870707</td>\n",
       "      <td>0.848780</td>\n",
       "    </tr>\n",
       "    <tr>\n",
       "      <th>7</th>\n",
       "      <td>Neural Network</td>\n",
       "      <td>{'hidden_layer_sizes': (20, 10, 10, 10), 'max_...</td>\n",
       "      <td>0.872667</td>\n",
       "      <td>0.817851</td>\n",
       "      <td>0.856931</td>\n",
       "      <td>0.790244</td>\n",
       "    </tr>\n",
       "  </tbody>\n",
       "</table>\n",
       "</div>"
      ],
      "text/plain": [
       "                 model                                        best_params  \\\n",
       "2           Linear SVM     {'C': 100, 'gamma': 0.001, 'kernel': 'linear'}   \n",
       "3    Gradient Boosting  {'learning_rate': 0.05, 'max_depth': 3, 'n_est...   \n",
       "5        Random Forest  {'max_depth': 7, 'min_samples_leaf': 1, 'min_s...   \n",
       "0  Logistic Regression                        {'C': 100, 'penalty': 'l2'}   \n",
       "4        Decision Tree  {'max_depth': 3, 'min_samples_leaf': 17, 'min_...   \n",
       "6          Naive Bayes                                                 {}   \n",
       "1    Nearest Neighbors                 {'leaf_size': 3, 'n_neighbors': 3}   \n",
       "7       Neural Network  {'hidden_layer_sizes': (20, 10, 10, 10), 'max_...   \n",
       "\n",
       "  test_accuracy   test_f1 test_precision test_recall  \n",
       "2      0.964157  0.951147       0.951644    0.951220  \n",
       "3      0.967728  0.955209       0.970830    0.941463  \n",
       "5      0.953362  0.936116       0.948123    0.926829  \n",
       "0      0.953411  0.934012       0.954878    0.917073  \n",
       "4      0.928282  0.903824       0.896725    0.912195  \n",
       "6      0.917439  0.886769       0.897756    0.878049  \n",
       "1      0.895914  0.857219       0.870707    0.848780  \n",
       "7      0.872667  0.817851       0.856931    0.790244  "
      ]
     },
     "execution_count": 204,
     "metadata": {},
     "output_type": "execute_result"
    }
   ],
   "source": [
    "df_cv_scores = evalution_classifiers(dict_classifiers, X,y)\n",
    "df_cv_scores[['model','best_params','test_accuracy','test_f1','test_precision','test_recall']].sort_values('test_recall', ascending=False)"
   ]
  },
  {
   "cell_type": "markdown",
   "metadata": {},
   "source": [
    "## Regression\n",
    "### Decision Tree Regressor\n",
    "The process of solving regression problem with decision tree (DecisionTreeRegressor class) using Scikit Learn is very similar to that of classification. \n",
    "\n",
    "Differences to Decision Trees:\n",
    "* Splitting criterion: minimizing error (|True values – Predicted values|)\n",
    "* Leaf node predicts average target values of training instances reaching that node \n",
    "\n",
    "The evaluation matrics for regression differ from those of classification. The rest of the process is almost same.\n",
    "\n",
    "Metrics:\n",
    "* Mean Absolute Error (MAE) = 1/n Σ|True values – Predicted values|\n",
    "* Mean Squared Error (MSE) = 1/n Σ(True values – Predicted values)**2\n",
    "* Root Mean Squared Error (RMSE) = sqrt(MSE)\n"
   ]
  },
  {
   "cell_type": "code",
   "execution_count": 235,
   "metadata": {},
   "outputs": [
    {
     "name": "stdout",
     "output_type": "stream",
     "text": [
      ".. _diabetes_dataset:\n",
      "\n",
      "Diabetes dataset\n",
      "----------------\n",
      "\n",
      "Ten baseline variables, age, sex, body mass index, average blood\n",
      "pressure, and six blood serum measurements were obtained for each of n =\n",
      "442 diabetes patients, as well as the response of interest, a\n",
      "quantitative measure of disease progression one year after baseline.\n",
      "\n",
      "**Data Set Characteristics:**\n",
      "\n",
      "  :Number of Instances: 442\n",
      "\n",
      "  :Number of Attributes: First 10 columns are numeric predictive values\n",
      "\n",
      "  :Target: Column 11 is a quantitative measure of disease progression one year after baseline\n",
      "\n",
      "  :Attribute Information:\n",
      "      - age     age in years\n",
      "      - sex\n",
      "      - bmi     body mass index\n",
      "      - bp      average blood pressure\n",
      "      - s1      tc, T-Cells (a type of white blood cells)\n",
      "      - s2      ldl, low-density lipoproteins\n",
      "      - s3      hdl, high-density lipoproteins\n",
      "      - s4      tch, thyroid stimulating hormone\n",
      "      - s5      ltg, lamotrigine\n",
      "      - s6      glu, blood sugar level\n",
      "\n",
      "Note: Each of these 10 feature variables have been mean centered and scaled by the standard deviation times `n_samples` (i.e. the sum of squares of each column totals 1).\n",
      "\n",
      "Source URL:\n",
      "https://www4.stat.ncsu.edu/~boos/var.select/diabetes.html\n",
      "\n",
      "For more information see:\n",
      "Bradley Efron, Trevor Hastie, Iain Johnstone and Robert Tibshirani (2004) \"Least Angle Regression,\" Annals of Statistics (with discussion), 407-499.\n",
      "(https://web.stanford.edu/~hastie/Papers/LARS/LeastAngle_2002.pdf)\n"
     ]
    }
   ],
   "source": [
    "print(load_diabetes().DESCR)"
   ]
  },
  {
   "cell_type": "code",
   "execution_count": 250,
   "metadata": {},
   "outputs": [],
   "source": [
    "## Regression\n",
    "from sklearn.datasets import load_diabetes\n",
    "from sklearn.model_selection import cross_val_score\n",
    "from sklearn.tree import DecisionTreeRegressor\n",
    "X, y = load_diabetes(return_X_y=True)\n",
    "\n",
    "\n",
    "X_train, X_test, y_train, y_test = train_test_split(X, y, test_size=0.2, random_state=0)\n",
    "regressor = DecisionTreeRegressor(random_state=0)\n",
    "regressor.fit(X_train,y_train)\n",
    "y_pred = regressor.predict(X_test)"
   ]
  },
  {
   "cell_type": "code",
   "execution_count": 251,
   "metadata": {},
   "outputs": [
    {
     "name": "stdout",
     "output_type": "stream",
     "text": [
      "Mean Absolute Error: 71.35955056179775\n",
      "Mean Squared Error: 7022.9775280898875\n",
      "Root Mean Squared Error: 83.80320714680249\n"
     ]
    }
   ],
   "source": [
    "from sklearn import metrics\n",
    "print('Mean Absolute Error:', metrics.mean_absolute_error(y_test, y_pred))\n",
    "print('Mean Squared Error:', metrics.mean_squared_error(y_test, y_pred))\n",
    "print('Root Mean Squared Error:', np.sqrt(metrics.mean_squared_error(y_test, y_pred)))"
   ]
  },
  {
   "cell_type": "markdown",
   "metadata": {},
   "source": [
    "### RandomForestRegressor\n",
    "It's similar to RandomForestClassifier, but it combines DecisionTreeRegressor and outputs the average of the individual predictions"
   ]
  },
  {
   "cell_type": "code",
   "execution_count": 253,
   "metadata": {},
   "outputs": [
    {
     "name": "stdout",
     "output_type": "stream",
     "text": [
      "Mean Absolute Error: 47.92044943820226\n",
      "Mean Squared Error: 3769.47091011236\n",
      "Root Mean Squared Error: 61.3960170541409\n"
     ]
    }
   ],
   "source": [
    "from sklearn.ensemble import RandomForestRegressor\n",
    "X_train, X_test, y_train, y_test = train_test_split(X, y, test_size=0.2, random_state=0)\n",
    "regressor = RandomForestRegressor(random_state=0)\n",
    "regressor.fit(X_train,y_train)\n",
    "y_pred = regressor.predict(X_test)\n",
    "\n",
    "print('Mean Absolute Error:', metrics.mean_absolute_error(y_test, y_pred))\n",
    "print('Mean Squared Error:', metrics.mean_squared_error(y_test, y_pred))\n",
    "print('Root Mean Squared Error:', np.sqrt(metrics.mean_squared_error(y_test, y_pred)))"
   ]
  },
  {
   "cell_type": "markdown",
   "metadata": {},
   "source": [
    "# Next Lesson\n",
    "Please follow the instructions **[HERE](https://github.com/EMbeDS-education/IPDPP-GSSI-20202021/wiki/Setup-your-machine#install-knime-analytics-platform)** to install *KNIME Analytics Platform*\n",
    "\n"
   ]
  }
 ],
 "metadata": {
  "kernelspec": {
   "display_name": "env_IPDPP_GSSI2021",
   "language": "python",
   "name": "env_ipdpp_gssi2021"
  },
  "language_info": {
   "codemirror_mode": {
    "name": "ipython",
    "version": 3
   },
   "file_extension": ".py",
   "mimetype": "text/x-python",
   "name": "python",
   "nbconvert_exporter": "python",
   "pygments_lexer": "ipython3",
   "version": "3.8.2"
  }
 },
 "nbformat": 4,
 "nbformat_minor": 4
}
